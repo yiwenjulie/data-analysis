{
 "cells": [
  {
   "cell_type": "markdown",
   "metadata": {},
   "source": [
    "## Author(s)\n",
    "\n",
    "- Author1 = {\"name\": \"Julie Zhang\", \"affiliation\": \"University of British Columbia\", \"email\": \"juliezyw@gmail.com\"}"
   ]
  },
  {
   "cell_type": "markdown",
   "metadata": {},
   "source": [
    "# Building a Data Pipeline\n",
    "\n",
    "In the first assignment we were posed with the question \"is cashtag frequency tied to increases in stock price?\".  To invistigate this we obtained some data from the New York Stock Exchange (NYSE), that consisted of the stock ticker symbols for various stocks trading on the NYSE.  We also used a dataset from Cresci *et al* (2019), that contained a large number of tweets with embedded stock tickers, represented as *cashtags*.\n",
    "\n",
    "For this assignment we are going to work through the process of accessing the Twitter data from our DBMS, aligning `datetime` twitter fields with the datetime information about daily stock values.  This will allow us to perform several calculations and perform a visual assessment of our data.\n",
    "\n",
    "We want to:\n",
    "\n",
    "  1. Obtain information about the frequency of tweeting for *all* stock tickers, to understand if tweeting patterns are common across all stocks.\n",
    "  2. Produce an interactive plot for a subset of stock tickers (using the [plotly package](https://plotly.com/python/) for Python).\n",
    "  3. Summarise the net change in stock price as a function of tweet volume for various stocks."
   ]
  },
  {
   "cell_type": "markdown",
   "metadata": {},
   "source": [
    "1. Set up your analysis here.  Import the packages you'll be using set up the connection and a cursor.  The connection is *essentially* the same as last time, only this time you will be using a database called `loadeddata`, not `rawdata`."
   ]
  },
  {
   "cell_type": "code",
   "execution_count": 4,
   "metadata": {},
   "outputs": [],
   "source": [
    "# Put your code here.  More than likely you can copy/paste right in.\n",
    "# Make sure you have your .env file in the same folder as this project file.\n",
    "\n",
    "import os\n",
    "import psycopg2\n",
    "from dotenv import load_dotenv\n",
    "import numpy\n",
    "import sparklines\n",
    "import pandas as pd\n",
    "import plotly.express as px\n",
    "\n",
    "load_dotenv()\n",
    "conString = {'host':os.environ.get('DB_HOST'),\n",
    "             'dbname':os.environ.get('DB_NAME'),\n",
    "             'user':os.environ.get('DB_USER'),\n",
    "             'password':os.environ.get('DB_PASS'),\n",
    "             'port':os.environ.get('DB_PORT')}\n"
   ]
  },
  {
   "cell_type": "markdown",
   "metadata": {},
   "source": [
    "1a.  The tweets are in the `loadeddata` database's `tweets.tweets` table.  We've previously connected to the server, but we're connecting to a new database within the server, so you need to adjust the `DB_NAME` field in you `.env` file to account for the change.  For each tweet we need to extract the actual tweet symbol.\n",
    "\n",
    "A value in the `text` column of the `tweets.tweets` table looks like this:\n",
    "\n",
    "`Keybank National Association OH Has $400,000 Stake in ChemoCentryx Inc $CCXI https://t.co/JZleFRCYKj`\n",
    "\n",
    "Look at the Postgres documentation for [regular expressions](https://www.postgresql.org/docs/12/functions-matching.html) and [string functions](https://www.postgresql.org/docs/12/functions-string.html) (look at `LTRIM`, `SUBSET`, and `regexp_matches` in particular).  Write a query to extract only a stock ticker symbol from a tweet (excluding the dollar value). Use this query to extract the first 100 stock tickers into your active python session and print them as a list (e.g. `['GE','VNCE','RGEN']`).  Use a comment to explain how the query you've written works."
   ]
  },
  {
   "cell_type": "code",
   "execution_count": 5,
   "metadata": {
    "scrolled": true
   },
   "outputs": [
    {
     "data": {
      "text/plain": [
       "['SPY',\n",
       " 'QQQ',\n",
       " 'MET',\n",
       " 'VDRM',\n",
       " 'ELED',\n",
       " 'QCOM',\n",
       " 'ASNA',\n",
       " 'ENDP',\n",
       " 'FRZT',\n",
       " 'CHRO',\n",
       " 'ICNB',\n",
       " 'AMRN',\n",
       " 'BAC',\n",
       " 'INSY',\n",
       " 'JNJ',\n",
       " 'XGTI',\n",
       " 'INTC',\n",
       " 'QQQ',\n",
       " 'ZNGA',\n",
       " 'BBRY',\n",
       " 'YHOO',\n",
       " 'CSCO',\n",
       " 'WMT',\n",
       " 'AMZN',\n",
       " 'WFM',\n",
       " 'MS',\n",
       " 'MU',\n",
       " 'WBA',\n",
       " 'SHIP',\n",
       " 'ECOB',\n",
       " 'AFOM',\n",
       " 'SPYR',\n",
       " 'VDRM',\n",
       " 'AMGN',\n",
       " 'SRPT',\n",
       " 'PTCT',\n",
       " 'NVAX',\n",
       " 'ICPT',\n",
       " 'ADXS',\n",
       " 'PBYI',\n",
       " 'PPHM',\n",
       " 'MRK',\n",
       " 'INSY',\n",
       " 'CLVS',\n",
       " 'FRZT',\n",
       " 'ICNB',\n",
       " 'CHRO',\n",
       " 'ELED',\n",
       " 'MU',\n",
       " 'DCTH',\n",
       " 'ALDR',\n",
       " 'MBRX',\n",
       " 'MU',\n",
       " 'MU',\n",
       " 'VRX',\n",
       " 'S',\n",
       " 'NDRM',\n",
       " 'ADP',\n",
       " 'MU',\n",
       " 'CTL',\n",
       " 'MU',\n",
       " 'ELGX',\n",
       " 'FFIV',\n",
       " 'BOX',\n",
       " 'MSFT',\n",
       " 'BABA',\n",
       " 'KSS',\n",
       " 'BABA',\n",
       " 'ITGS',\n",
       " 'SBFM',\n",
       " 'MBRX',\n",
       " 'TOPS',\n",
       " 'TMPSW',\n",
       " 'BBY',\n",
       " 'ALSN',\n",
       " 'CHRO',\n",
       " 'PSID',\n",
       " 'ITUS',\n",
       " 'HLRTF',\n",
       " 'RWLK',\n",
       " 'PNOW',\n",
       " 'KIWB',\n",
       " 'GLDN',\n",
       " 'CBIO',\n",
       " 'AVEO',\n",
       " 'CNAT',\n",
       " 'HRS',\n",
       " 'VRSK',\n",
       " 'CHRO',\n",
       " 'PSID',\n",
       " 'ITUS',\n",
       " 'HLRTF',\n",
       " 'RWLK',\n",
       " 'PNOW',\n",
       " 'KIWB',\n",
       " 'GLDN',\n",
       " 'CBIO',\n",
       " 'AVEO',\n",
       " 'HRL',\n",
       " 'NEM']"
      ]
     },
     "execution_count": 5,
     "metadata": {},
     "output_type": "execute_result"
    }
   ],
   "source": [
    "conn = psycopg2.connect(**conString)\n",
    "cur = conn.cursor()\n",
    "Ticker=[]\n",
    "cur.execute(\"select LTRIM(unnest(regexp_matches(text, '\\$[A-Z]+\\M','g')),'$') as Ticker from tweets.tweets limit 100;\")\n",
    "for i in range(100):\n",
    "    ##use ''.join to convert tuple to string, then added to list Ticker\n",
    "    Ticker.append(''.join(cur.fetchone()))\n",
    "Ticker"
   ]
  },
  {
   "cell_type": "markdown",
   "metadata": {},
   "source": [
    "1b. Examine these first 100 stock tickers and the text that they were exracted from.  Do you notice issues?  Are all the results accurate?  **NOTE**: There are for sure some records that are wrong.  If, for whatever reason, you do not find any errors in regex detection/extraction in your first 100 rows, use `LIMIT 100 OFFSET 100` to look at the next set of 100 results."
   ]
  },
  {
   "cell_type": "markdown",
   "metadata": {},
   "source": [
    "ANSWER:the regulary expression we used in sql query does not guarantee 100% match of cashtags. for example if we have $$SPY, then the cashtag can not be extracted properly."
   ]
  },
  {
   "cell_type": "markdown",
   "metadata": {},
   "source": [
    "1c. Given the answer above, what are some considerations we must make in cleaning the data?  How can we minimize the issues we find?"
   ]
  },
  {
   "cell_type": "markdown",
   "metadata": {},
   "source": [
    "ANSWER: during data cleaning, we need to watch for outliers, data gaps, misspellings, incorrectly entered, duplication and etc. To minimize the issues, we need to start at the earliest stage, make a clear cleaning plan and think from the customer's perspective."
   ]
  },
  {
   "cell_type": "markdown",
   "metadata": {},
   "source": [
    "We should check the extracted stock against the set of stock tickers, to make sure it's in the valid set (we can use referential integrity between the symbol table and the extracted cashtags).  We can also perform some estimates on error rates."
   ]
  },
  {
   "cell_type": "markdown",
   "metadata": {},
   "source": [
    "2. Now that we are able to extract stock data (to some degree), let's avoid doing major data cleaning just yet.  First, lets look at the stock data and find out, for each stock, how many tweets have been made about the stock, and how many days the stock has been tweeted about.  Here I'd like you to build a SQL query that returns the stock symbol (as above), the count of tweets, and the count of distinct dates on which the symbol has been tweeted.  But we're going to break it down here:\n",
    "\n",
    "2a. You should notice that the `createdat` column in the table is a `text` field in Postgres that looks something like this: `Thu May 18 22:00:02 +0000 2017`. To convert this field you need to use the Postgres function [`TO_DATE`](https://www.postgresql.org/docs/12/functions-formatting.html) (you can also use `TO_TIMESTAMP`, but our stock data is aggregated by day, so we'll stick with day-level records here).  Write a SQL query to extract the date for only one row and execute the query."
   ]
  },
  {
   "cell_type": "code",
   "execution_count": 41,
   "metadata": {},
   "outputs": [
    {
     "data": {
      "text/plain": [
       "'2017-06-24'"
      ]
     },
     "execution_count": 41,
     "metadata": {},
     "output_type": "execute_result"
    }
   ],
   "source": [
    "sql=\"select to_date(createdat,'DY Mon DD HH24:MI:SS +0000 YYYY') from tweets.tweets limit 1;\"\n",
    "cur.execute(sql)\n",
    "date=cur.fetchall()\n",
    "format(date[0][0])"
   ]
  },
  {
   "cell_type": "markdown",
   "metadata": {},
   "source": [
    "2b. In the `tweets` schema you'll see a number of tables.  The process of cleaning the data was accomplished as in the Jupyter notebook `data_cleaning.ipynb` that you have been given already.  In the `tweets` schema there are a number of tables: `cleantweets` is the table of all (non-retweet) tweets, there is a table `symbols`, `stockvalues`, `cashtags` and `retweets`.  \n",
    "\n",
    "Using these tables, create a query to return the count of each cashtag symbol instance on each day in the dataset.  Return the first 10 rows."
   ]
  },
  {
   "cell_type": "code",
   "execution_count": 55,
   "metadata": {},
   "outputs": [],
   "source": [
    "sql=\"\"\"select t.createdate::date date, s.nasdaqsymbol symbol, count(c.symbolid) \n",
    "from tweets.cashtags c\n",
    "join tweets.symbols s on c.symbolid=s.symbolid\n",
    "join tweets.cleantweets t on c.tweetid=t.tweetid\n",
    "group by t.createdate::date, s.nasdaqsymbol,c.symbolid;\"\"\"\n",
    "df=pd.read_sql(sql,conn)"
   ]
  },
  {
   "cell_type": "code",
   "execution_count": 56,
   "metadata": {},
   "outputs": [
    {
     "data": {
      "text/html": [
       "<div>\n",
       "<style scoped>\n",
       "    .dataframe tbody tr th:only-of-type {\n",
       "        vertical-align: middle;\n",
       "    }\n",
       "\n",
       "    .dataframe tbody tr th {\n",
       "        vertical-align: top;\n",
       "    }\n",
       "\n",
       "    .dataframe thead th {\n",
       "        text-align: right;\n",
       "    }\n",
       "</style>\n",
       "<table border=\"1\" class=\"dataframe\">\n",
       "  <thead>\n",
       "    <tr style=\"text-align: right;\">\n",
       "      <th></th>\n",
       "      <th>date</th>\n",
       "      <th>symbol</th>\n",
       "      <th>count</th>\n",
       "    </tr>\n",
       "  </thead>\n",
       "  <tbody>\n",
       "    <tr>\n",
       "      <th>0</th>\n",
       "      <td>2017-05-24</td>\n",
       "      <td>A</td>\n",
       "      <td>44</td>\n",
       "    </tr>\n",
       "    <tr>\n",
       "      <th>1</th>\n",
       "      <td>2017-05-24</td>\n",
       "      <td>AA</td>\n",
       "      <td>5</td>\n",
       "    </tr>\n",
       "    <tr>\n",
       "      <th>2</th>\n",
       "      <td>2017-05-24</td>\n",
       "      <td>AAMC</td>\n",
       "      <td>7</td>\n",
       "    </tr>\n",
       "    <tr>\n",
       "      <th>3</th>\n",
       "      <td>2017-05-24</td>\n",
       "      <td>AAN</td>\n",
       "      <td>1</td>\n",
       "    </tr>\n",
       "    <tr>\n",
       "      <th>4</th>\n",
       "      <td>2017-05-24</td>\n",
       "      <td>AAP</td>\n",
       "      <td>69</td>\n",
       "    </tr>\n",
       "    <tr>\n",
       "      <th>5</th>\n",
       "      <td>2017-05-24</td>\n",
       "      <td>AAT</td>\n",
       "      <td>30</td>\n",
       "    </tr>\n",
       "    <tr>\n",
       "      <th>6</th>\n",
       "      <td>2017-05-24</td>\n",
       "      <td>AB</td>\n",
       "      <td>5</td>\n",
       "    </tr>\n",
       "    <tr>\n",
       "      <th>7</th>\n",
       "      <td>2017-05-24</td>\n",
       "      <td>ABB</td>\n",
       "      <td>9</td>\n",
       "    </tr>\n",
       "    <tr>\n",
       "      <th>8</th>\n",
       "      <td>2017-05-24</td>\n",
       "      <td>ABBV</td>\n",
       "      <td>47</td>\n",
       "    </tr>\n",
       "    <tr>\n",
       "      <th>9</th>\n",
       "      <td>2017-05-24</td>\n",
       "      <td>ABC</td>\n",
       "      <td>13</td>\n",
       "    </tr>\n",
       "  </tbody>\n",
       "</table>\n",
       "</div>"
      ],
      "text/plain": [
       "         date symbol  count\n",
       "0  2017-05-24      A     44\n",
       "1  2017-05-24     AA      5\n",
       "2  2017-05-24   AAMC      7\n",
       "3  2017-05-24    AAN      1\n",
       "4  2017-05-24    AAP     69\n",
       "5  2017-05-24    AAT     30\n",
       "6  2017-05-24     AB      5\n",
       "7  2017-05-24    ABB      9\n",
       "8  2017-05-24   ABBV     47\n",
       "9  2017-05-24    ABC     13"
      ]
     },
     "execution_count": 56,
     "metadata": {},
     "output_type": "execute_result"
    }
   ],
   "source": [
    "df.head(10)"
   ]
  },
  {
   "cell_type": "markdown",
   "metadata": {},
   "source": [
    "3. A [sparkline](https://en.wikipedia.org/wiki/Sparkline) is a graphical representation of data proposed by Edward Tufte.  We're going to start out with sparklines because they're fairly easy to implement in Python, and we don't need to use anything particularly crazy to put them in.  We're going to make sparklines for a number of records, but to do that, first we need the set of distinct symbols, the set of distinct dates, and then a table with symbols, days, and the count of tweets for that combination.\n",
    "\n",
    "a. You now have a list of all valid stock symbols, with the count of tweets per day.  With these three objects we can itterate through each stock. We want to use the [`sparklines`](https://pypi.org/project/sparklines/) package to print out something that looks like this:"
   ]
  },
  {
   "cell_type": "code",
   "execution_count": null,
   "metadata": {},
   "outputs": [],
   "source": [
    "# import sparklines -- You can have this here, or up above where you initialize everything.\n",
    "\n",
    "' '.join([''.join(sparklines.sparklines([0,10,2,3,10,2,6,6,4,12])), 'Stock name'])"
   ]
  },
  {
   "cell_type": "markdown",
   "metadata": {},
   "source": [
    "Given the format that `sparklines` expects, we should take the input data, that looks something like this (your order may vary):\n",
    "\n",
    "```\n",
    "[('PRGE', 1986, datetime.date(2017, 5, 18)), ('PRGE', 1004, datetime.date(2017, 5, 19)), ... ]\n",
    "```\n",
    "\n",
    "And get it to look something like this (each entry in the second list is one of the days over which our stock data stretches):\n",
    "\n",
    "```python\n",
    "result = ['PRGE', [0, 0, 0, 1986, 0, 1004, 0, 0, 0, 0, 0, 0, 97, 492, 245, 0, 833, 5188, 12587, 10312, 1173, 4267, 2081, 22, 42, 0, 0, 0, 0, 0, 0, 0, 1, 0, 0, 0, 266, 0, 0, 0, 0, 0, 0, 0, 0, 0, 0, 0, 552, 508, 88, 541, 0, 0, 0, 0, 0, 0, 0, 0, 0, 0, 15, 693, 0, 0, 0, 0, 0, 0, 0, 0, 0, 0, 0, 0, 0, 0, 0, 0, 0, 0, 0, 0, 0, 0, 0, 0, 0, 0, 0, 0, 0, 0, 0, 0, 0, 0, 0, 0, 0, 0, 0, 0, 0, 0, 0, 0, 0, 0, 0, 0, 0, 0, 0, 0, 0, 0]]\n",
    "```\n",
    "\n",
    "This way we can print out a sparkline like this:\n",
    "\n",
    "```\n",
    "print(' '.join([''.join(sparklines.sparklines(result[1])), result[0]]))\n",
    "```\n",
    "\n",
    "**So, in the next block, you will generate a sparkline for the first ten stock tickers in the dataset (either use a `for` loop with a counter so you can `break` from the loop when the counter gets to 10, use a `range` statement, or use something else you know about).**\n",
    "\n",
    "You've already copied all the stock tweets into memory in the block above, so you can use that, and you can get a list of the ordered days (we know they go from May to September, 2017), possibly using a [`set()`](https://docs.python.org/3/tutorial/datastructures.html#sets) of all the days in the record.  So, for ten different stock symbols, create a list with the `[stock name, [counts of tweets per day]]` for each date in the dataset (this may be more days than the number of days on which the stock symbol was tweeted).\n",
    "\n",
    "Likely, you will need to use the [`.index()` method](https://docs.python.org/3/library/array.html#array.array.index).  There are several solutions to this problem, but more than likely you will be using `map` and `filter` functions here (or similar `pandas` functions).  So go for it.  Return 10 sparklines:"
   ]
  },
  {
   "cell_type": "code",
   "execution_count": 57,
   "metadata": {
    "tags": []
   },
   "outputs": [
    {
     "name": "stdout",
     "output_type": "stream",
     "text": [
      "▂▄▃▂▂▆▇▇▇▆▃▃▃▃▄▅▅▅▂▄▃▁▂▃▂▂▃▂▂▅▆▃▄▄▃▃▃▃▃▃▃▆▅▄▄▃▃▂▃▂▃▄▂▃▃▃▃▄▂▂▃▂▂▃▂▁▃▅█▄▃▄▄▃▃▃▃▄▄▃▅▆▅▄▃▂ A\n",
      "▁▂▂▁▁▃▃▄▃▄▂▂▄▂▃▃▅▂▁▃▂▁▂▁▁▂▂▁▃▅▃▄▃▄▂▃▃▃▂▃▄▅▅▄▃▂▃▃▁▃▄▃▃▄▄██▂▂▂▂▂▂▁▄▃▃▃▂▃▂▃▄▄▃▅▂▂▄▄█▃▄▂ AA\n",
      "▃▃▁▃█▃▃▂▁▁▂▂▂▁▁▁▂▁▁▂▁▃▂▄▂▁▁▁▁▂▁▁▁▁▁▁▁▂▁▁▁▂▁▁▁▁▁▂▁▁▁▂▂▁▂▁▁▂▁▂▂▄▁▁▃ AAMC\n",
      "▁▂▂▃▃▃▅▄▇▄▅▃▂▄▇▇▅▁▆▂▁▂▂▁▄▂▁▆▆▅▆▅▃▅▄▃▄▁▂▄▇▄█▇▂▄▆▂▂▂▂▃▄▃▆▄▂▁▂▄▂▁▃▂▄▄▃▃▁▃▃▂▃▄▁▂▇▆▄▅▆▁ AAN\n",
      "▂▂▂▁▂▃▄▅▃▂▁▁▂▂▂▃▂▂▁▂▂▁▁▁▁▁▁▁▂▂▁▁▁▂▂▂▂▁▁▁▂█▅▆▂▁▂▂▁▁▁▁▁▂▁▁▂▂▁▁▁▁▁▁▁▂█▅▃▃▂▂▃▂▁▁▂▁▁▂▁▂▁▁▁ AAP\n",
      "▄▃▂▁▁▃▅▇▃▂▁▁▂▃▃▃▃▂▄▂▂▃▂▂▂▂▃▂▁▂▃▁▂▁▂▁▁▁▁▂▅▃▁▃▂▁▂▄▂▁▂▂▂▃▂▁▁▁▃▂▁▁▂▂▂▂▆▂▄▂▂▂▄▃▅▃▃▄█▆▃▃ AAT\n",
      "▁▃▂▁▁▃▆█▃▄▂▂▅▃▆▃█▄▁▄▄▁▂▁▁▂▁▁▄▄▂▂▂▃▂▂▃▁▁▃▂▂▁▅▁▁▁▂▂▃▂▃▂▃▂▃▅▂▂▁▃▂▂▂▁▃▂▃▆▄▂▁▃▁▃▅█▄▄▄█▅▃▂ AB\n",
      "▁▂▁▁▁▂▄▇▄▄▂▂▁▂▃▅▅▂▁▄▄▁▂▁▁▂▂▁▆▃▂▂▂▂▂▂▂▄▂▃▄▂▄▃▁▁▂▂▁▁▂▁▁▂▁▃█▃▁▁▂▃▂▁▂▂▃▂▂▂▂▂▂▃▃▄▂▃▂▄▃▁▂ ABB\n",
      "▂▂▁▁▁▄▅▇▄▅▄▄▄▃▅▆█▅▃▄▃▂▃▂▂▃▃▂▇▇▃▃▄▂▂▂▂▂▂▂▂▂▂▂▂▁▂▂▁▂▂▁▁▂▂▂▄▂▂▁▂▂▂▁▁▂▂▂▂▃▂▂▂▂▂▂▄▃▂▃▄▃▃▃▁ ABBV\n",
      "▁▂▁▁▁▅▇▇▄▅▂▅▃▂▅▅▆▅▁▃▄▃▂▃▂▃▂▁█▃▂▃▂▂▂▂▄▂▂▁▃▅▆▄▂▂▃▁▂▂▁▁▂▂▁▂▂▂▁▁▁▂▂▁▃▄▃▃▅▅▂▂▂▃▂▂▃▃▃▃▄▂▃▂ ABC\n"
     ]
    }
   ],
   "source": [
    "#use pandas dataframes to constuct the list required for the first 10 tickers\n",
    "for i in range(10):\n",
    "    s=df.iloc[i]['symbol']\n",
    "    result=[s]\n",
    "    result.append(df[df['symbol']==s]['count'].tolist())\n",
    "    print(' '.join([''.join(sparklines.sparklines(result[1])), result[0]]))"
   ]
  },
  {
   "cell_type": "markdown",
   "metadata": {},
   "source": [
    "3c. Given the sparklines you've generated, describe any of the patterns you see.  Do you see potential issues with the data?  You can run the code a few times to get a different set of sparklines, but please describe two general patterns you see (i.e., not specific to a single stock).  For each of the two patterns, explain how you might address these."
   ]
  },
  {
   "cell_type": "markdown",
   "metadata": {},
   "source": [
    "ANSWER:\n",
    "Pattern 1 is discussion rised but quickly cooled off for a long period, the flucuation is very high; Pattern 2 (AAN) shows consistent high level of discussions throughout the whole time range."
   ]
  },
  {
   "cell_type": "markdown",
   "metadata": {},
   "source": [
    "4. Interactive plots can improve the legibility of data representations, and provide additional context for data, however the principles of good data management must still be followed.  We can use `plotly` to create an interactive plot for several tickers.  Using `pandas` makes some of the data management a bit easier as well.  For example:\n",
    "\n",
    "```\n",
    "import plotly.express as px\n",
    "query = \"\"\"SELECT sy.nasdaqsymbol,\n",
    "                  date_trunc('day', ct.createdate),\n",
    "                  COUNT(sy.nasdaqsymbol) AS total\n",
    "           FROM          tweets.cashtags AS ctg\n",
    "           INNER JOIN     tweets.symbols AS sy ON ctg.symbolid = sy.symbolid\n",
    "           INNER JOIN tweets.cleantweets AS ct ON ct.tweetid = ctg.tweetid\n",
    "           GROUP BY sy.nasdaqsymbol, date_trunc('day', ct.createdate)\n",
    "           ORDER BY date_trunc('day', ct.createdate)\"\"\"\n",
    "\n",
    "cur = conn.cursor()\n",
    "cur.execute(query)\n",
    "stocktweets = cur.fetchall()\n",
    "\n",
    "# We know the order of the tuples in the stocktweets list, because\n",
    "# it matches the SQL query we sent.\n",
    "stockdf = pd.DataFrame(stocktweets, columns=['Symbol', 'Date', 'Count'])\n",
    "\n",
    "# Now limit it to four stock tweets:\n",
    "stocksmall = stockdf[stockdf['Symbol'].isin(['A','B','C','D'])]\n",
    "\n",
    "fig = px.line(stocksmall, \n",
    "              x='Date',\n",
    "              y='Count', \n",
    "              color = 'Symbol', \n",
    "              title='Stock Tweet Volume by Day', \n",
    "              log_y = True)\n",
    "fig.show()\n",
    "```\n",
    "\n",
    "Based on the code (above), create a line plot that shows the 10 stocks with the highest total number of tweets (you will likely have to do a subquery for this)."
   ]
  },
  {
   "cell_type": "code",
   "execution_count": 58,
   "metadata": {},
   "outputs": [
    {
     "data": {
      "text/html": [
       "<div>\n",
       "<style scoped>\n",
       "    .dataframe tbody tr th:only-of-type {\n",
       "        vertical-align: middle;\n",
       "    }\n",
       "\n",
       "    .dataframe tbody tr th {\n",
       "        vertical-align: top;\n",
       "    }\n",
       "\n",
       "    .dataframe thead th {\n",
       "        text-align: right;\n",
       "    }\n",
       "</style>\n",
       "<table border=\"1\" class=\"dataframe\">\n",
       "  <thead>\n",
       "    <tr style=\"text-align: right;\">\n",
       "      <th></th>\n",
       "      <th>symbol</th>\n",
       "      <th>count</th>\n",
       "      <th>date</th>\n",
       "    </tr>\n",
       "  </thead>\n",
       "  <tbody>\n",
       "    <tr>\n",
       "      <th>0</th>\n",
       "      <td>TWTR</td>\n",
       "      <td>1806</td>\n",
       "      <td>2017-06-22</td>\n",
       "    </tr>\n",
       "    <tr>\n",
       "      <th>1</th>\n",
       "      <td>ETH</td>\n",
       "      <td>1557</td>\n",
       "      <td>2017-07-19</td>\n",
       "    </tr>\n",
       "    <tr>\n",
       "      <th>2</th>\n",
       "      <td>LTC</td>\n",
       "      <td>868</td>\n",
       "      <td>2017-07-06</td>\n",
       "    </tr>\n",
       "    <tr>\n",
       "      <th>3</th>\n",
       "      <td>IBM</td>\n",
       "      <td>750</td>\n",
       "      <td>2017-06-09</td>\n",
       "    </tr>\n",
       "    <tr>\n",
       "      <th>4</th>\n",
       "      <td>BABA</td>\n",
       "      <td>700</td>\n",
       "      <td>2017-08-30</td>\n",
       "    </tr>\n",
       "    <tr>\n",
       "      <th>5</th>\n",
       "      <td>BCH</td>\n",
       "      <td>600</td>\n",
       "      <td>2017-08-27</td>\n",
       "    </tr>\n",
       "    <tr>\n",
       "      <th>6</th>\n",
       "      <td>SPY</td>\n",
       "      <td>584</td>\n",
       "      <td>2017-08-14</td>\n",
       "    </tr>\n",
       "    <tr>\n",
       "      <th>7</th>\n",
       "      <td>XOM</td>\n",
       "      <td>502</td>\n",
       "      <td>2017-06-22</td>\n",
       "    </tr>\n",
       "    <tr>\n",
       "      <th>8</th>\n",
       "      <td>PSTG</td>\n",
       "      <td>484</td>\n",
       "      <td>2017-08-25</td>\n",
       "    </tr>\n",
       "    <tr>\n",
       "      <th>9</th>\n",
       "      <td>LLY</td>\n",
       "      <td>465</td>\n",
       "      <td>2017-05-31</td>\n",
       "    </tr>\n",
       "  </tbody>\n",
       "</table>\n",
       "</div>"
      ],
      "text/plain": [
       "  symbol  count        date\n",
       "0   TWTR   1806  2017-06-22\n",
       "1    ETH   1557  2017-07-19\n",
       "2    LTC    868  2017-07-06\n",
       "3    IBM    750  2017-06-09\n",
       "4   BABA    700  2017-08-30\n",
       "5    BCH    600  2017-08-27\n",
       "6    SPY    584  2017-08-14\n",
       "7    XOM    502  2017-06-22\n",
       "8   PSTG    484  2017-08-25\n",
       "9    LLY    465  2017-05-31"
      ]
     },
     "execution_count": 58,
     "metadata": {},
     "output_type": "execute_result"
    }
   ],
   "source": [
    "conn = psycopg2.connect(**conString)\n",
    "sql=\"\"\"select distinct (rf.symbol), rf.count, rf.date from (\n",
    "select  distinct on (s.nasdaqsymbol) s.nasdaqsymbol as symbol, t.createdate::date date, count(c.symbolid) \n",
    "from tweets.cashtags c\n",
    "join tweets.symbols s on c.symbolid=s.symbolid\n",
    "join tweets.cleantweets t on c.tweetid=t.tweetid\n",
    "group by t.createdate::date, s.nasdaqsymbol,c.symbolid) rf\n",
    "order by rf.count desc\n",
    "limit 10;\"\"\"\n",
    "df2=pd.read_sql(sql,conn)\n",
    "df2"
   ]
  },
  {
   "cell_type": "code",
   "execution_count": 59,
   "metadata": {},
   "outputs": [
    {
     "data": {
      "application/vnd.plotly.v1+json": {
       "config": {
        "plotlyServerURL": "https://plot.ly"
       },
       "data": [
        {
         "hovertemplate": "symbol=BABA<br>date=%{x}<br>count=%{y}<extra></extra>",
         "legendgroup": "BABA",
         "line": {
          "color": "#636efa",
          "dash": "solid"
         },
         "mode": "lines",
         "name": "BABA",
         "orientation": "v",
         "showlegend": true,
         "type": "scatter",
         "x": [
          "2017-05-24",
          "2017-05-25",
          "2017-05-26",
          "2017-05-27",
          "2017-05-28",
          "2017-05-29",
          "2017-05-30",
          "2017-05-31",
          "2017-06-01",
          "2017-06-02",
          "2017-06-03",
          "2017-06-04",
          "2017-06-05",
          "2017-06-06",
          "2017-06-07",
          "2017-06-08",
          "2017-06-09",
          "2017-06-10",
          "2017-06-11",
          "2017-06-12",
          "2017-06-13",
          "2017-06-14",
          "2017-06-15",
          "2017-06-16",
          "2017-06-17",
          "2017-06-18",
          "2017-06-19",
          "2017-06-20",
          "2017-06-21",
          "2017-06-22",
          "2017-06-23",
          "2017-06-24",
          "2017-06-25",
          "2017-06-26",
          "2017-06-27",
          "2017-06-28",
          "2017-06-29",
          "2017-06-30",
          "2017-07-01",
          "2017-07-02",
          "2017-07-03",
          "2017-07-04",
          "2017-07-05",
          "2017-07-06",
          "2017-07-07",
          "2017-07-08",
          "2017-07-09",
          "2017-07-10",
          "2017-07-11",
          "2017-07-12",
          "2017-07-13",
          "2017-07-14",
          "2017-07-15",
          "2017-07-16",
          "2017-07-17",
          "2017-07-18",
          "2017-07-19",
          "2017-07-20",
          "2017-07-21",
          "2017-07-22",
          "2017-07-23",
          "2017-07-24",
          "2017-07-25",
          "2017-07-26",
          "2017-07-27",
          "2017-08-13",
          "2017-08-14",
          "2017-08-15",
          "2017-08-16",
          "2017-08-17",
          "2017-08-18",
          "2017-08-19",
          "2017-08-20",
          "2017-08-21",
          "2017-08-22",
          "2017-08-23",
          "2017-08-24",
          "2017-08-25",
          "2017-08-26",
          "2017-08-27",
          "2017-08-28",
          "2017-08-29",
          "2017-08-30",
          "2017-08-31",
          "2017-09-01",
          "2017-09-02"
         ],
         "xaxis": "x",
         "y": [
          49,
          174,
          113,
          45,
          30,
          144,
          278,
          417,
          325,
          292,
          136,
          170,
          214,
          140,
          247,
          3316,
          1977,
          381,
          133,
          700,
          626,
          6,
          204,
          233,
          90,
          93,
          345,
          228,
          278,
          660,
          480,
          230,
          164,
          342,
          320,
          245,
          252,
          244,
          162,
          115,
          236,
          315,
          622,
          538,
          354,
          214,
          144,
          235,
          317,
          232,
          161,
          267,
          121,
          72,
          220,
          318,
          258,
          397,
          166,
          84,
          96,
          207,
          199,
          259,
          123,
          21,
          376,
          399,
          555,
          1421,
          1229,
          424,
          384,
          404,
          574,
          540,
          472,
          786,
          179,
          228,
          544,
          804,
          700,
          388,
          203,
          35
         ],
         "yaxis": "y"
        },
        {
         "hovertemplate": "symbol=BCH<br>date=%{x}<br>count=%{y}<extra></extra>",
         "legendgroup": "BCH",
         "line": {
          "color": "#EF553B",
          "dash": "solid"
         },
         "mode": "lines",
         "name": "BCH",
         "orientation": "v",
         "showlegend": true,
         "type": "scatter",
         "x": [
          "2017-05-24",
          "2017-05-25",
          "2017-05-26",
          "2017-05-27",
          "2017-05-28",
          "2017-05-29",
          "2017-05-30",
          "2017-05-31",
          "2017-06-01",
          "2017-06-02",
          "2017-06-03",
          "2017-06-05",
          "2017-06-06",
          "2017-06-07",
          "2017-06-08",
          "2017-06-09",
          "2017-06-12",
          "2017-06-13",
          "2017-06-15",
          "2017-06-16",
          "2017-06-17",
          "2017-06-19",
          "2017-06-20",
          "2017-06-21",
          "2017-06-22",
          "2017-06-23",
          "2017-06-24",
          "2017-06-25",
          "2017-06-26",
          "2017-06-27",
          "2017-06-28",
          "2017-06-29",
          "2017-06-30",
          "2017-07-02",
          "2017-07-03",
          "2017-07-04",
          "2017-07-05",
          "2017-07-06",
          "2017-07-07",
          "2017-07-08",
          "2017-07-09",
          "2017-07-10",
          "2017-07-11",
          "2017-07-13",
          "2017-07-14",
          "2017-07-15",
          "2017-07-16",
          "2017-07-17",
          "2017-07-18",
          "2017-07-19",
          "2017-07-20",
          "2017-07-21",
          "2017-07-22",
          "2017-07-23",
          "2017-07-24",
          "2017-07-25",
          "2017-07-26",
          "2017-08-13",
          "2017-08-14",
          "2017-08-15",
          "2017-08-16",
          "2017-08-17",
          "2017-08-18",
          "2017-08-19",
          "2017-08-20",
          "2017-08-21",
          "2017-08-22",
          "2017-08-23",
          "2017-08-24",
          "2017-08-25",
          "2017-08-26",
          "2017-08-27",
          "2017-08-28",
          "2017-08-29",
          "2017-08-30",
          "2017-08-31",
          "2017-09-01",
          "2017-09-02"
         ],
         "xaxis": "x",
         "y": [
          1,
          6,
          3,
          1,
          3,
          8,
          16,
          9,
          33,
          20,
          6,
          27,
          10,
          5,
          17,
          6,
          18,
          22,
          1,
          3,
          4,
          5,
          2,
          4,
          16,
          16,
          4,
          14,
          1,
          11,
          2,
          1,
          17,
          2,
          1,
          31,
          18,
          14,
          10,
          8,
          10,
          5,
          2,
          3,
          6,
          1,
          4,
          11,
          3,
          1,
          10,
          2,
          15,
          3,
          6,
          13,
          6,
          10,
          212,
          107,
          117,
          295,
          1373,
          1536,
          1148,
          530,
          640,
          352,
          384,
          599,
          497,
          600,
          310,
          388,
          404,
          432,
          327,
          104
         ],
         "yaxis": "y"
        },
        {
         "hovertemplate": "symbol=ETH<br>date=%{x}<br>count=%{y}<extra></extra>",
         "legendgroup": "ETH",
         "line": {
          "color": "#00cc96",
          "dash": "solid"
         },
         "mode": "lines",
         "name": "ETH",
         "orientation": "v",
         "showlegend": true,
         "type": "scatter",
         "x": [
          "2017-05-24",
          "2017-05-25",
          "2017-05-26",
          "2017-05-27",
          "2017-05-28",
          "2017-05-29",
          "2017-05-30",
          "2017-05-31",
          "2017-06-01",
          "2017-06-02",
          "2017-06-03",
          "2017-06-04",
          "2017-06-05",
          "2017-06-06",
          "2017-06-07",
          "2017-06-08",
          "2017-06-09",
          "2017-06-10",
          "2017-06-11",
          "2017-06-12",
          "2017-06-13",
          "2017-06-14",
          "2017-06-15",
          "2017-06-16",
          "2017-06-17",
          "2017-06-18",
          "2017-06-19",
          "2017-06-20",
          "2017-06-21",
          "2017-06-22",
          "2017-06-23",
          "2017-06-24",
          "2017-06-25",
          "2017-06-26",
          "2017-06-27",
          "2017-06-28",
          "2017-06-29",
          "2017-06-30",
          "2017-07-01",
          "2017-07-02",
          "2017-07-03",
          "2017-07-04",
          "2017-07-05",
          "2017-07-06",
          "2017-07-07",
          "2017-07-08",
          "2017-07-09",
          "2017-07-10",
          "2017-07-11",
          "2017-07-12",
          "2017-07-13",
          "2017-07-14",
          "2017-07-15",
          "2017-07-16",
          "2017-07-17",
          "2017-07-18",
          "2017-07-19",
          "2017-07-20",
          "2017-07-21",
          "2017-07-22",
          "2017-07-23",
          "2017-07-24",
          "2017-07-25",
          "2017-07-26",
          "2017-07-27",
          "2017-08-13",
          "2017-08-14",
          "2017-08-15",
          "2017-08-16",
          "2017-08-17",
          "2017-08-18",
          "2017-08-19",
          "2017-08-20",
          "2017-08-21",
          "2017-08-22",
          "2017-08-23",
          "2017-08-24",
          "2017-08-25",
          "2017-08-26",
          "2017-08-27",
          "2017-08-28",
          "2017-08-29",
          "2017-08-30",
          "2017-08-31",
          "2017-09-01",
          "2017-09-02"
         ],
         "xaxis": "x",
         "y": [
          239,
          536,
          329,
          385,
          356,
          774,
          2268,
          2382,
          1314,
          876,
          858,
          1166,
          712,
          612,
          674,
          866,
          1209,
          2397,
          1147,
          2443,
          1218,
          18,
          404,
          599,
          598,
          584,
          526,
          601,
          798,
          1803,
          1336,
          1210,
          1738,
          1740,
          720,
          756,
          838,
          947,
          2366,
          711,
          690,
          1768,
          1172,
          1026,
          1316,
          1208,
          804,
          843,
          793,
          497,
          294,
          613,
          600,
          922,
          1201,
          1382,
          1557,
          2040,
          886,
          1077,
          1143,
          1053,
          1185,
          1137,
          454,
          135,
          1181,
          1177,
          1133,
          1181,
          1647,
          2098,
          2122,
          1810,
          1276,
          1290,
          1422,
          2501,
          2511,
          2822,
          2966,
          3072,
          2990,
          2966,
          2095,
          677
         ],
         "yaxis": "y"
        },
        {
         "hovertemplate": "symbol=IBM<br>date=%{x}<br>count=%{y}<extra></extra>",
         "legendgroup": "IBM",
         "line": {
          "color": "#ab63fa",
          "dash": "solid"
         },
         "mode": "lines",
         "name": "IBM",
         "orientation": "v",
         "showlegend": true,
         "type": "scatter",
         "x": [
          "2017-05-24",
          "2017-05-25",
          "2017-05-26",
          "2017-05-27",
          "2017-05-28",
          "2017-05-29",
          "2017-05-30",
          "2017-05-31",
          "2017-06-01",
          "2017-06-02",
          "2017-06-03",
          "2017-06-04",
          "2017-06-05",
          "2017-06-06",
          "2017-06-07",
          "2017-06-08",
          "2017-06-09",
          "2017-06-10",
          "2017-06-11",
          "2017-06-12",
          "2017-06-13",
          "2017-06-14",
          "2017-06-15",
          "2017-06-16",
          "2017-06-17",
          "2017-06-18",
          "2017-06-19",
          "2017-06-20",
          "2017-06-21",
          "2017-06-22",
          "2017-06-23",
          "2017-06-24",
          "2017-06-25",
          "2017-06-26",
          "2017-06-27",
          "2017-06-28",
          "2017-06-29",
          "2017-06-30",
          "2017-07-01",
          "2017-07-02",
          "2017-07-03",
          "2017-07-04",
          "2017-07-05",
          "2017-07-06",
          "2017-07-07",
          "2017-07-08",
          "2017-07-09",
          "2017-07-10",
          "2017-07-11",
          "2017-07-12",
          "2017-07-13",
          "2017-07-14",
          "2017-07-15",
          "2017-07-16",
          "2017-07-17",
          "2017-07-18",
          "2017-07-19",
          "2017-07-20",
          "2017-07-21",
          "2017-07-22",
          "2017-07-23",
          "2017-07-24",
          "2017-07-25",
          "2017-07-26",
          "2017-07-27",
          "2017-08-13",
          "2017-08-14",
          "2017-08-15",
          "2017-08-16",
          "2017-08-17",
          "2017-08-18",
          "2017-08-19",
          "2017-08-20",
          "2017-08-21",
          "2017-08-22",
          "2017-08-23",
          "2017-08-24",
          "2017-08-25",
          "2017-08-26",
          "2017-08-27",
          "2017-08-28",
          "2017-08-29",
          "2017-08-30",
          "2017-08-31",
          "2017-09-01",
          "2017-09-02"
         ],
         "xaxis": "x",
         "y": [
          112,
          172,
          148,
          55,
          60,
          234,
          463,
          792,
          661,
          519,
          318,
          326,
          458,
          234,
          520,
          598,
          750,
          495,
          183,
          577,
          350,
          5,
          172,
          252,
          130,
          158,
          289,
          229,
          133,
          700,
          596,
          336,
          394,
          477,
          368,
          248,
          187,
          145,
          142,
          141,
          158,
          210,
          270,
          380,
          284,
          146,
          164,
          218,
          207,
          155,
          130,
          183,
          124,
          123,
          465,
          1024,
          982,
          676,
          289,
          176,
          125,
          358,
          244,
          216,
          111,
          11,
          215,
          279,
          248,
          254,
          358,
          138,
          180,
          186,
          296,
          311,
          229,
          489,
          235,
          210,
          240,
          428,
          412,
          252,
          123,
          41
         ],
         "yaxis": "y"
        },
        {
         "hovertemplate": "symbol=LLY<br>date=%{x}<br>count=%{y}<extra></extra>",
         "legendgroup": "LLY",
         "line": {
          "color": "#FFA15A",
          "dash": "solid"
         },
         "mode": "lines",
         "name": "LLY",
         "orientation": "v",
         "showlegend": true,
         "type": "scatter",
         "x": [
          "2017-05-24",
          "2017-05-25",
          "2017-05-26",
          "2017-05-27",
          "2017-05-28",
          "2017-05-29",
          "2017-05-30",
          "2017-05-31",
          "2017-06-01",
          "2017-06-02",
          "2017-06-03",
          "2017-06-04",
          "2017-06-05",
          "2017-06-06",
          "2017-06-07",
          "2017-06-08",
          "2017-06-09",
          "2017-06-10",
          "2017-06-11",
          "2017-06-12",
          "2017-06-13",
          "2017-06-14",
          "2017-06-15",
          "2017-06-16",
          "2017-06-17",
          "2017-06-18",
          "2017-06-19",
          "2017-06-20",
          "2017-06-21",
          "2017-06-22",
          "2017-06-23",
          "2017-06-24",
          "2017-06-25",
          "2017-06-26",
          "2017-06-27",
          "2017-06-28",
          "2017-06-29",
          "2017-06-30",
          "2017-07-01",
          "2017-07-02",
          "2017-07-03",
          "2017-07-04",
          "2017-07-05",
          "2017-07-06",
          "2017-07-07",
          "2017-07-08",
          "2017-07-09",
          "2017-07-10",
          "2017-07-11",
          "2017-07-12",
          "2017-07-13",
          "2017-07-14",
          "2017-07-15",
          "2017-07-16",
          "2017-07-17",
          "2017-07-18",
          "2017-07-19",
          "2017-07-20",
          "2017-07-21",
          "2017-07-22",
          "2017-07-23",
          "2017-07-24",
          "2017-07-25",
          "2017-07-26",
          "2017-07-27",
          "2017-08-13",
          "2017-08-14",
          "2017-08-15",
          "2017-08-16",
          "2017-08-17",
          "2017-08-18",
          "2017-08-19",
          "2017-08-20",
          "2017-08-21",
          "2017-08-22",
          "2017-08-23",
          "2017-08-24",
          "2017-08-25",
          "2017-08-26",
          "2017-08-27",
          "2017-08-28",
          "2017-08-29",
          "2017-08-30",
          "2017-08-31",
          "2017-09-01",
          "2017-09-02"
         ],
         "xaxis": "x",
         "y": [
          38,
          54,
          31,
          25,
          17,
          122,
          265,
          465,
          407,
          238,
          178,
          198,
          151,
          98,
          137,
          263,
          360,
          252,
          109,
          173,
          184,
          6,
          74,
          121,
          71,
          84,
          121,
          111,
          84,
          310,
          308,
          142,
          132,
          160,
          52,
          50,
          32,
          77,
          36,
          28,
          48,
          100,
          136,
          82,
          156,
          44,
          32,
          98,
          67,
          42,
          37,
          49,
          27,
          22,
          73,
          71,
          74,
          81,
          51,
          36,
          22,
          118,
          354,
          116,
          46,
          7,
          53,
          57,
          83,
          63,
          99,
          40,
          46,
          39,
          53,
          50,
          63,
          84,
          65,
          44,
          88,
          96,
          216,
          116,
          86,
          16
         ],
         "yaxis": "y"
        },
        {
         "hovertemplate": "symbol=LTC<br>date=%{x}<br>count=%{y}<extra></extra>",
         "legendgroup": "LTC",
         "line": {
          "color": "#19d3f3",
          "dash": "solid"
         },
         "mode": "lines",
         "name": "LTC",
         "orientation": "v",
         "showlegend": true,
         "type": "scatter",
         "x": [
          "2017-05-24",
          "2017-05-25",
          "2017-05-26",
          "2017-05-27",
          "2017-05-28",
          "2017-05-29",
          "2017-05-30",
          "2017-05-31",
          "2017-06-01",
          "2017-06-02",
          "2017-06-03",
          "2017-06-04",
          "2017-06-05",
          "2017-06-06",
          "2017-06-07",
          "2017-06-08",
          "2017-06-09",
          "2017-06-10",
          "2017-06-11",
          "2017-06-12",
          "2017-06-13",
          "2017-06-14",
          "2017-06-15",
          "2017-06-16",
          "2017-06-17",
          "2017-06-18",
          "2017-06-19",
          "2017-06-20",
          "2017-06-21",
          "2017-06-22",
          "2017-06-23",
          "2017-06-24",
          "2017-06-25",
          "2017-06-26",
          "2017-06-27",
          "2017-06-28",
          "2017-06-29",
          "2017-06-30",
          "2017-07-01",
          "2017-07-02",
          "2017-07-03",
          "2017-07-04",
          "2017-07-05",
          "2017-07-06",
          "2017-07-07",
          "2017-07-08",
          "2017-07-09",
          "2017-07-10",
          "2017-07-11",
          "2017-07-12",
          "2017-07-13",
          "2017-07-14",
          "2017-07-15",
          "2017-07-16",
          "2017-07-17",
          "2017-07-18",
          "2017-07-19",
          "2017-07-20",
          "2017-07-21",
          "2017-07-22",
          "2017-07-23",
          "2017-07-24",
          "2017-07-25",
          "2017-07-26",
          "2017-07-27",
          "2017-08-13",
          "2017-08-14",
          "2017-08-15",
          "2017-08-16",
          "2017-08-17",
          "2017-08-18",
          "2017-08-19",
          "2017-08-20",
          "2017-08-21",
          "2017-08-22",
          "2017-08-23",
          "2017-08-24",
          "2017-08-25",
          "2017-08-26",
          "2017-08-27",
          "2017-08-28",
          "2017-08-29",
          "2017-08-30",
          "2017-08-31",
          "2017-09-01",
          "2017-09-02"
         ],
         "xaxis": "x",
         "y": [
          126,
          301,
          170,
          170,
          163,
          188,
          501,
          531,
          630,
          334,
          288,
          386,
          311,
          250,
          264,
          499,
          609,
          729,
          347,
          408,
          202,
          10,
          207,
          350,
          903,
          312,
          576,
          235,
          135,
          633,
          542,
          400,
          412,
          480,
          270,
          304,
          217,
          334,
          1018,
          300,
          537,
          2134,
          966,
          868,
          910,
          706,
          558,
          483,
          397,
          250,
          213,
          466,
          297,
          489,
          787,
          855,
          744,
          1472,
          720,
          721,
          735,
          704,
          723,
          636,
          226,
          98,
          917,
          884,
          828,
          853,
          1245,
          1646,
          1424,
          1090,
          966,
          1311,
          1334,
          1714,
          1432,
          2716,
          2298,
          1950,
          1708,
          2744,
          2602,
          708
         ],
         "yaxis": "y"
        },
        {
         "hovertemplate": "symbol=PSTG<br>date=%{x}<br>count=%{y}<extra></extra>",
         "legendgroup": "PSTG",
         "line": {
          "color": "#FF6692",
          "dash": "solid"
         },
         "mode": "lines",
         "name": "PSTG",
         "orientation": "v",
         "showlegend": true,
         "type": "scatter",
         "x": [
          "2017-05-24",
          "2017-05-25",
          "2017-05-26",
          "2017-05-27",
          "2017-05-28",
          "2017-05-29",
          "2017-05-30",
          "2017-05-31",
          "2017-06-01",
          "2017-06-02",
          "2017-06-03",
          "2017-06-04",
          "2017-06-05",
          "2017-06-06",
          "2017-06-07",
          "2017-06-08",
          "2017-06-09",
          "2017-06-10",
          "2017-06-11",
          "2017-06-12",
          "2017-06-13",
          "2017-06-14",
          "2017-06-15",
          "2017-06-16",
          "2017-06-17",
          "2017-06-18",
          "2017-06-19",
          "2017-06-20",
          "2017-06-21",
          "2017-06-22",
          "2017-06-23",
          "2017-06-24",
          "2017-06-25",
          "2017-06-26",
          "2017-06-27",
          "2017-06-28",
          "2017-06-29",
          "2017-06-30",
          "2017-07-01",
          "2017-07-02",
          "2017-07-03",
          "2017-07-04",
          "2017-07-05",
          "2017-07-06",
          "2017-07-07",
          "2017-07-08",
          "2017-07-09",
          "2017-07-10",
          "2017-07-11",
          "2017-07-12",
          "2017-07-13",
          "2017-07-14",
          "2017-07-15",
          "2017-07-16",
          "2017-07-17",
          "2017-07-18",
          "2017-07-19",
          "2017-07-20",
          "2017-07-21",
          "2017-07-22",
          "2017-07-23",
          "2017-07-24",
          "2017-07-25",
          "2017-07-26",
          "2017-07-27",
          "2017-08-14",
          "2017-08-15",
          "2017-08-16",
          "2017-08-17",
          "2017-08-18",
          "2017-08-19",
          "2017-08-20",
          "2017-08-21",
          "2017-08-22",
          "2017-08-23",
          "2017-08-24",
          "2017-08-25",
          "2017-08-26",
          "2017-08-27",
          "2017-08-28",
          "2017-08-29",
          "2017-08-30",
          "2017-08-31",
          "2017-09-01",
          "2017-09-02"
         ],
         "xaxis": "x",
         "y": [
          72,
          153,
          74,
          29,
          5,
          70,
          90,
          165,
          72,
          42,
          16,
          14,
          7,
          14,
          7,
          20,
          15,
          54,
          4,
          4,
          41,
          3,
          27,
          36,
          10,
          25,
          62,
          24,
          8,
          70,
          70,
          36,
          34,
          30,
          16,
          28,
          6,
          8,
          16,
          3,
          5,
          7,
          20,
          26,
          14,
          82,
          9,
          22,
          24,
          14,
          8,
          8,
          9,
          13,
          15,
          17,
          17,
          25,
          8,
          5,
          7,
          7,
          14,
          14,
          7,
          46,
          21,
          21,
          27,
          62,
          8,
          12,
          9,
          8,
          20,
          114,
          484,
          120,
          82,
          170,
          98,
          94,
          24,
          19,
          6
         ],
         "yaxis": "y"
        },
        {
         "hovertemplate": "symbol=SPY<br>date=%{x}<br>count=%{y}<extra></extra>",
         "legendgroup": "SPY",
         "line": {
          "color": "#B6E880",
          "dash": "solid"
         },
         "mode": "lines",
         "name": "SPY",
         "orientation": "v",
         "showlegend": true,
         "type": "scatter",
         "x": [
          "2017-05-24",
          "2017-05-25",
          "2017-05-26",
          "2017-05-27",
          "2017-05-28",
          "2017-05-29",
          "2017-05-30",
          "2017-05-31",
          "2017-06-01",
          "2017-06-02",
          "2017-06-03",
          "2017-06-04",
          "2017-06-05",
          "2017-06-06",
          "2017-06-07",
          "2017-06-08",
          "2017-06-09",
          "2017-06-10",
          "2017-06-11",
          "2017-06-12",
          "2017-06-13",
          "2017-06-14",
          "2017-06-15",
          "2017-06-16",
          "2017-06-17",
          "2017-06-18",
          "2017-06-19",
          "2017-06-20",
          "2017-06-21",
          "2017-06-22",
          "2017-06-23",
          "2017-06-24",
          "2017-06-25",
          "2017-06-26",
          "2017-06-27",
          "2017-06-28",
          "2017-06-29",
          "2017-06-30",
          "2017-07-01",
          "2017-07-02",
          "2017-07-03",
          "2017-07-04",
          "2017-07-05",
          "2017-07-06",
          "2017-07-07",
          "2017-07-08",
          "2017-07-09",
          "2017-07-10",
          "2017-07-11",
          "2017-07-12",
          "2017-07-13",
          "2017-07-14",
          "2017-07-15",
          "2017-07-16",
          "2017-07-17",
          "2017-07-18",
          "2017-07-19",
          "2017-07-20",
          "2017-07-21",
          "2017-07-22",
          "2017-07-23",
          "2017-07-24",
          "2017-07-25",
          "2017-07-26",
          "2017-07-27",
          "2017-08-13",
          "2017-08-14",
          "2017-08-15",
          "2017-08-16",
          "2017-08-17",
          "2017-08-18",
          "2017-08-19",
          "2017-08-20",
          "2017-08-21",
          "2017-08-22",
          "2017-08-23",
          "2017-08-24",
          "2017-08-25",
          "2017-08-26",
          "2017-08-27",
          "2017-08-28",
          "2017-08-29",
          "2017-08-30",
          "2017-08-31",
          "2017-09-01",
          "2017-09-02"
         ],
         "xaxis": "x",
         "y": [
          277,
          574,
          445,
          177,
          180,
          476,
          1267,
          1887,
          1512,
          1288,
          772,
          696,
          710,
          621,
          914,
          1381,
          2072,
          744,
          384,
          1248,
          852,
          13,
          477,
          547,
          244,
          242,
          626,
          486,
          286,
          1107,
          1084,
          572,
          546,
          1063,
          704,
          716,
          763,
          772,
          472,
          279,
          530,
          546,
          1142,
          1170,
          1064,
          500,
          363,
          548,
          532,
          344,
          289,
          554,
          188,
          262,
          509,
          566,
          601,
          944,
          510,
          242,
          205,
          483,
          498,
          573,
          232,
          32,
          584,
          558,
          570,
          703,
          902,
          446,
          592,
          607,
          563,
          554,
          575,
          970,
          369,
          516,
          1024,
          1194,
          1200,
          1162,
          609,
          95
         ],
         "yaxis": "y"
        },
        {
         "hovertemplate": "symbol=TWTR<br>date=%{x}<br>count=%{y}<extra></extra>",
         "legendgroup": "TWTR",
         "line": {
          "color": "#FF97FF",
          "dash": "solid"
         },
         "mode": "lines",
         "name": "TWTR",
         "orientation": "v",
         "showlegend": true,
         "type": "scatter",
         "x": [
          "2017-05-24",
          "2017-05-25",
          "2017-05-26",
          "2017-05-27",
          "2017-05-28",
          "2017-05-29",
          "2017-05-30",
          "2017-05-31",
          "2017-06-01",
          "2017-06-02",
          "2017-06-03",
          "2017-06-04",
          "2017-06-05",
          "2017-06-06",
          "2017-06-07",
          "2017-06-08",
          "2017-06-09",
          "2017-06-10",
          "2017-06-11",
          "2017-06-12",
          "2017-06-13",
          "2017-06-14",
          "2017-06-15",
          "2017-06-16",
          "2017-06-17",
          "2017-06-18",
          "2017-06-19",
          "2017-06-20",
          "2017-06-21",
          "2017-06-22",
          "2017-06-23",
          "2017-06-24",
          "2017-06-25",
          "2017-06-26",
          "2017-06-27",
          "2017-06-28",
          "2017-06-29",
          "2017-06-30",
          "2017-07-01",
          "2017-07-02",
          "2017-07-03",
          "2017-07-04",
          "2017-07-05",
          "2017-07-06",
          "2017-07-07",
          "2017-07-08",
          "2017-07-09",
          "2017-07-10",
          "2017-07-11",
          "2017-07-12",
          "2017-07-13",
          "2017-07-14",
          "2017-07-15",
          "2017-07-16",
          "2017-07-17",
          "2017-07-18",
          "2017-07-19",
          "2017-07-20",
          "2017-07-21",
          "2017-07-22",
          "2017-07-23",
          "2017-07-24",
          "2017-07-25",
          "2017-07-26",
          "2017-07-27",
          "2017-08-13",
          "2017-08-14",
          "2017-08-15",
          "2017-08-16",
          "2017-08-17",
          "2017-08-18",
          "2017-08-19",
          "2017-08-20",
          "2017-08-21",
          "2017-08-22",
          "2017-08-23",
          "2017-08-24",
          "2017-08-25",
          "2017-08-26",
          "2017-08-27",
          "2017-08-28",
          "2017-08-29",
          "2017-08-30",
          "2017-08-31",
          "2017-09-01",
          "2017-09-02"
         ],
         "xaxis": "x",
         "y": [
          283,
          523,
          357,
          180,
          165,
          512,
          1354,
          2073,
          1341,
          1084,
          684,
          584,
          644,
          669,
          936,
          1319,
          1866,
          1014,
          406,
          809,
          822,
          23,
          688,
          799,
          520,
          467,
          832,
          407,
          463,
          1806,
          1518,
          1164,
          1116,
          1302,
          798,
          795,
          705,
          940,
          620,
          609,
          657,
          826,
          1202,
          1994,
          1632,
          992,
          762,
          708,
          985,
          641,
          384,
          804,
          367,
          308,
          687,
          664,
          601,
          1470,
          620,
          383,
          400,
          660,
          805,
          943,
          944,
          37,
          554,
          557,
          609,
          708,
          860,
          610,
          648,
          539,
          557,
          645,
          656,
          1233,
          742,
          840,
          770,
          1090,
          1054,
          898,
          471,
          141
         ],
         "yaxis": "y"
        },
        {
         "hovertemplate": "symbol=XOM<br>date=%{x}<br>count=%{y}<extra></extra>",
         "legendgroup": "XOM",
         "line": {
          "color": "#FECB52",
          "dash": "solid"
         },
         "mode": "lines",
         "name": "XOM",
         "orientation": "v",
         "showlegend": true,
         "type": "scatter",
         "x": [
          "2017-05-24",
          "2017-05-25",
          "2017-05-26",
          "2017-05-27",
          "2017-05-28",
          "2017-05-29",
          "2017-05-30",
          "2017-05-31",
          "2017-06-01",
          "2017-06-02",
          "2017-06-03",
          "2017-06-04",
          "2017-06-05",
          "2017-06-06",
          "2017-06-07",
          "2017-06-08",
          "2017-06-09",
          "2017-06-10",
          "2017-06-11",
          "2017-06-12",
          "2017-06-13",
          "2017-06-14",
          "2017-06-15",
          "2017-06-16",
          "2017-06-17",
          "2017-06-18",
          "2017-06-19",
          "2017-06-20",
          "2017-06-21",
          "2017-06-22",
          "2017-06-23",
          "2017-06-24",
          "2017-06-25",
          "2017-06-26",
          "2017-06-27",
          "2017-06-28",
          "2017-06-29",
          "2017-06-30",
          "2017-07-01",
          "2017-07-02",
          "2017-07-03",
          "2017-07-04",
          "2017-07-05",
          "2017-07-06",
          "2017-07-07",
          "2017-07-08",
          "2017-07-09",
          "2017-07-10",
          "2017-07-11",
          "2017-07-12",
          "2017-07-13",
          "2017-07-14",
          "2017-07-15",
          "2017-07-16",
          "2017-07-17",
          "2017-07-18",
          "2017-07-19",
          "2017-07-20",
          "2017-07-21",
          "2017-07-22",
          "2017-07-23",
          "2017-07-24",
          "2017-07-25",
          "2017-07-26",
          "2017-07-27",
          "2017-08-13",
          "2017-08-14",
          "2017-08-15",
          "2017-08-16",
          "2017-08-17",
          "2017-08-18",
          "2017-08-19",
          "2017-08-20",
          "2017-08-21",
          "2017-08-22",
          "2017-08-23",
          "2017-08-24",
          "2017-08-25",
          "2017-08-26",
          "2017-08-27",
          "2017-08-28",
          "2017-08-29",
          "2017-08-30",
          "2017-08-31",
          "2017-09-01",
          "2017-09-02"
         ],
         "xaxis": "x",
         "y": [
          86,
          129,
          76,
          37,
          21,
          164,
          417,
          1011,
          606,
          550,
          262,
          236,
          299,
          183,
          319,
          352,
          438,
          339,
          123,
          277,
          213,
          1,
          103,
          181,
          97,
          97,
          177,
          244,
          110,
          502,
          408,
          194,
          192,
          278,
          125,
          105,
          90,
          162,
          88,
          57,
          108,
          196,
          330,
          310,
          308,
          128,
          101,
          117,
          195,
          94,
          74,
          101,
          60,
          44,
          83,
          110,
          86,
          379,
          154,
          72,
          41,
          121,
          175,
          118,
          73,
          5,
          179,
          156,
          204,
          192,
          355,
          148,
          124,
          237,
          129,
          225,
          202,
          314,
          152,
          186,
          406,
          636,
          388,
          232,
          138,
          30
         ],
         "yaxis": "y"
        }
       ],
       "layout": {
        "legend": {
         "title": {
          "text": "symbol"
         },
         "tracegroupgap": 0
        },
        "template": {
         "data": {
          "bar": [
           {
            "error_x": {
             "color": "#2a3f5f"
            },
            "error_y": {
             "color": "#2a3f5f"
            },
            "marker": {
             "line": {
              "color": "#E5ECF6",
              "width": 0.5
             }
            },
            "type": "bar"
           }
          ],
          "barpolar": [
           {
            "marker": {
             "line": {
              "color": "#E5ECF6",
              "width": 0.5
             }
            },
            "type": "barpolar"
           }
          ],
          "carpet": [
           {
            "aaxis": {
             "endlinecolor": "#2a3f5f",
             "gridcolor": "white",
             "linecolor": "white",
             "minorgridcolor": "white",
             "startlinecolor": "#2a3f5f"
            },
            "baxis": {
             "endlinecolor": "#2a3f5f",
             "gridcolor": "white",
             "linecolor": "white",
             "minorgridcolor": "white",
             "startlinecolor": "#2a3f5f"
            },
            "type": "carpet"
           }
          ],
          "choropleth": [
           {
            "colorbar": {
             "outlinewidth": 0,
             "ticks": ""
            },
            "type": "choropleth"
           }
          ],
          "contour": [
           {
            "colorbar": {
             "outlinewidth": 0,
             "ticks": ""
            },
            "colorscale": [
             [
              0,
              "#0d0887"
             ],
             [
              0.1111111111111111,
              "#46039f"
             ],
             [
              0.2222222222222222,
              "#7201a8"
             ],
             [
              0.3333333333333333,
              "#9c179e"
             ],
             [
              0.4444444444444444,
              "#bd3786"
             ],
             [
              0.5555555555555556,
              "#d8576b"
             ],
             [
              0.6666666666666666,
              "#ed7953"
             ],
             [
              0.7777777777777778,
              "#fb9f3a"
             ],
             [
              0.8888888888888888,
              "#fdca26"
             ],
             [
              1,
              "#f0f921"
             ]
            ],
            "type": "contour"
           }
          ],
          "contourcarpet": [
           {
            "colorbar": {
             "outlinewidth": 0,
             "ticks": ""
            },
            "type": "contourcarpet"
           }
          ],
          "heatmap": [
           {
            "colorbar": {
             "outlinewidth": 0,
             "ticks": ""
            },
            "colorscale": [
             [
              0,
              "#0d0887"
             ],
             [
              0.1111111111111111,
              "#46039f"
             ],
             [
              0.2222222222222222,
              "#7201a8"
             ],
             [
              0.3333333333333333,
              "#9c179e"
             ],
             [
              0.4444444444444444,
              "#bd3786"
             ],
             [
              0.5555555555555556,
              "#d8576b"
             ],
             [
              0.6666666666666666,
              "#ed7953"
             ],
             [
              0.7777777777777778,
              "#fb9f3a"
             ],
             [
              0.8888888888888888,
              "#fdca26"
             ],
             [
              1,
              "#f0f921"
             ]
            ],
            "type": "heatmap"
           }
          ],
          "heatmapgl": [
           {
            "colorbar": {
             "outlinewidth": 0,
             "ticks": ""
            },
            "colorscale": [
             [
              0,
              "#0d0887"
             ],
             [
              0.1111111111111111,
              "#46039f"
             ],
             [
              0.2222222222222222,
              "#7201a8"
             ],
             [
              0.3333333333333333,
              "#9c179e"
             ],
             [
              0.4444444444444444,
              "#bd3786"
             ],
             [
              0.5555555555555556,
              "#d8576b"
             ],
             [
              0.6666666666666666,
              "#ed7953"
             ],
             [
              0.7777777777777778,
              "#fb9f3a"
             ],
             [
              0.8888888888888888,
              "#fdca26"
             ],
             [
              1,
              "#f0f921"
             ]
            ],
            "type": "heatmapgl"
           }
          ],
          "histogram": [
           {
            "marker": {
             "colorbar": {
              "outlinewidth": 0,
              "ticks": ""
             }
            },
            "type": "histogram"
           }
          ],
          "histogram2d": [
           {
            "colorbar": {
             "outlinewidth": 0,
             "ticks": ""
            },
            "colorscale": [
             [
              0,
              "#0d0887"
             ],
             [
              0.1111111111111111,
              "#46039f"
             ],
             [
              0.2222222222222222,
              "#7201a8"
             ],
             [
              0.3333333333333333,
              "#9c179e"
             ],
             [
              0.4444444444444444,
              "#bd3786"
             ],
             [
              0.5555555555555556,
              "#d8576b"
             ],
             [
              0.6666666666666666,
              "#ed7953"
             ],
             [
              0.7777777777777778,
              "#fb9f3a"
             ],
             [
              0.8888888888888888,
              "#fdca26"
             ],
             [
              1,
              "#f0f921"
             ]
            ],
            "type": "histogram2d"
           }
          ],
          "histogram2dcontour": [
           {
            "colorbar": {
             "outlinewidth": 0,
             "ticks": ""
            },
            "colorscale": [
             [
              0,
              "#0d0887"
             ],
             [
              0.1111111111111111,
              "#46039f"
             ],
             [
              0.2222222222222222,
              "#7201a8"
             ],
             [
              0.3333333333333333,
              "#9c179e"
             ],
             [
              0.4444444444444444,
              "#bd3786"
             ],
             [
              0.5555555555555556,
              "#d8576b"
             ],
             [
              0.6666666666666666,
              "#ed7953"
             ],
             [
              0.7777777777777778,
              "#fb9f3a"
             ],
             [
              0.8888888888888888,
              "#fdca26"
             ],
             [
              1,
              "#f0f921"
             ]
            ],
            "type": "histogram2dcontour"
           }
          ],
          "mesh3d": [
           {
            "colorbar": {
             "outlinewidth": 0,
             "ticks": ""
            },
            "type": "mesh3d"
           }
          ],
          "parcoords": [
           {
            "line": {
             "colorbar": {
              "outlinewidth": 0,
              "ticks": ""
             }
            },
            "type": "parcoords"
           }
          ],
          "pie": [
           {
            "automargin": true,
            "type": "pie"
           }
          ],
          "scatter": [
           {
            "marker": {
             "colorbar": {
              "outlinewidth": 0,
              "ticks": ""
             }
            },
            "type": "scatter"
           }
          ],
          "scatter3d": [
           {
            "line": {
             "colorbar": {
              "outlinewidth": 0,
              "ticks": ""
             }
            },
            "marker": {
             "colorbar": {
              "outlinewidth": 0,
              "ticks": ""
             }
            },
            "type": "scatter3d"
           }
          ],
          "scattercarpet": [
           {
            "marker": {
             "colorbar": {
              "outlinewidth": 0,
              "ticks": ""
             }
            },
            "type": "scattercarpet"
           }
          ],
          "scattergeo": [
           {
            "marker": {
             "colorbar": {
              "outlinewidth": 0,
              "ticks": ""
             }
            },
            "type": "scattergeo"
           }
          ],
          "scattergl": [
           {
            "marker": {
             "colorbar": {
              "outlinewidth": 0,
              "ticks": ""
             }
            },
            "type": "scattergl"
           }
          ],
          "scattermapbox": [
           {
            "marker": {
             "colorbar": {
              "outlinewidth": 0,
              "ticks": ""
             }
            },
            "type": "scattermapbox"
           }
          ],
          "scatterpolar": [
           {
            "marker": {
             "colorbar": {
              "outlinewidth": 0,
              "ticks": ""
             }
            },
            "type": "scatterpolar"
           }
          ],
          "scatterpolargl": [
           {
            "marker": {
             "colorbar": {
              "outlinewidth": 0,
              "ticks": ""
             }
            },
            "type": "scatterpolargl"
           }
          ],
          "scatterternary": [
           {
            "marker": {
             "colorbar": {
              "outlinewidth": 0,
              "ticks": ""
             }
            },
            "type": "scatterternary"
           }
          ],
          "surface": [
           {
            "colorbar": {
             "outlinewidth": 0,
             "ticks": ""
            },
            "colorscale": [
             [
              0,
              "#0d0887"
             ],
             [
              0.1111111111111111,
              "#46039f"
             ],
             [
              0.2222222222222222,
              "#7201a8"
             ],
             [
              0.3333333333333333,
              "#9c179e"
             ],
             [
              0.4444444444444444,
              "#bd3786"
             ],
             [
              0.5555555555555556,
              "#d8576b"
             ],
             [
              0.6666666666666666,
              "#ed7953"
             ],
             [
              0.7777777777777778,
              "#fb9f3a"
             ],
             [
              0.8888888888888888,
              "#fdca26"
             ],
             [
              1,
              "#f0f921"
             ]
            ],
            "type": "surface"
           }
          ],
          "table": [
           {
            "cells": {
             "fill": {
              "color": "#EBF0F8"
             },
             "line": {
              "color": "white"
             }
            },
            "header": {
             "fill": {
              "color": "#C8D4E3"
             },
             "line": {
              "color": "white"
             }
            },
            "type": "table"
           }
          ]
         },
         "layout": {
          "annotationdefaults": {
           "arrowcolor": "#2a3f5f",
           "arrowhead": 0,
           "arrowwidth": 1
          },
          "autotypenumbers": "strict",
          "coloraxis": {
           "colorbar": {
            "outlinewidth": 0,
            "ticks": ""
           }
          },
          "colorscale": {
           "diverging": [
            [
             0,
             "#8e0152"
            ],
            [
             0.1,
             "#c51b7d"
            ],
            [
             0.2,
             "#de77ae"
            ],
            [
             0.3,
             "#f1b6da"
            ],
            [
             0.4,
             "#fde0ef"
            ],
            [
             0.5,
             "#f7f7f7"
            ],
            [
             0.6,
             "#e6f5d0"
            ],
            [
             0.7,
             "#b8e186"
            ],
            [
             0.8,
             "#7fbc41"
            ],
            [
             0.9,
             "#4d9221"
            ],
            [
             1,
             "#276419"
            ]
           ],
           "sequential": [
            [
             0,
             "#0d0887"
            ],
            [
             0.1111111111111111,
             "#46039f"
            ],
            [
             0.2222222222222222,
             "#7201a8"
            ],
            [
             0.3333333333333333,
             "#9c179e"
            ],
            [
             0.4444444444444444,
             "#bd3786"
            ],
            [
             0.5555555555555556,
             "#d8576b"
            ],
            [
             0.6666666666666666,
             "#ed7953"
            ],
            [
             0.7777777777777778,
             "#fb9f3a"
            ],
            [
             0.8888888888888888,
             "#fdca26"
            ],
            [
             1,
             "#f0f921"
            ]
           ],
           "sequentialminus": [
            [
             0,
             "#0d0887"
            ],
            [
             0.1111111111111111,
             "#46039f"
            ],
            [
             0.2222222222222222,
             "#7201a8"
            ],
            [
             0.3333333333333333,
             "#9c179e"
            ],
            [
             0.4444444444444444,
             "#bd3786"
            ],
            [
             0.5555555555555556,
             "#d8576b"
            ],
            [
             0.6666666666666666,
             "#ed7953"
            ],
            [
             0.7777777777777778,
             "#fb9f3a"
            ],
            [
             0.8888888888888888,
             "#fdca26"
            ],
            [
             1,
             "#f0f921"
            ]
           ]
          },
          "colorway": [
           "#636efa",
           "#EF553B",
           "#00cc96",
           "#ab63fa",
           "#FFA15A",
           "#19d3f3",
           "#FF6692",
           "#B6E880",
           "#FF97FF",
           "#FECB52"
          ],
          "font": {
           "color": "#2a3f5f"
          },
          "geo": {
           "bgcolor": "white",
           "lakecolor": "white",
           "landcolor": "#E5ECF6",
           "showlakes": true,
           "showland": true,
           "subunitcolor": "white"
          },
          "hoverlabel": {
           "align": "left"
          },
          "hovermode": "closest",
          "mapbox": {
           "style": "light"
          },
          "paper_bgcolor": "white",
          "plot_bgcolor": "#E5ECF6",
          "polar": {
           "angularaxis": {
            "gridcolor": "white",
            "linecolor": "white",
            "ticks": ""
           },
           "bgcolor": "#E5ECF6",
           "radialaxis": {
            "gridcolor": "white",
            "linecolor": "white",
            "ticks": ""
           }
          },
          "scene": {
           "xaxis": {
            "backgroundcolor": "#E5ECF6",
            "gridcolor": "white",
            "gridwidth": 2,
            "linecolor": "white",
            "showbackground": true,
            "ticks": "",
            "zerolinecolor": "white"
           },
           "yaxis": {
            "backgroundcolor": "#E5ECF6",
            "gridcolor": "white",
            "gridwidth": 2,
            "linecolor": "white",
            "showbackground": true,
            "ticks": "",
            "zerolinecolor": "white"
           },
           "zaxis": {
            "backgroundcolor": "#E5ECF6",
            "gridcolor": "white",
            "gridwidth": 2,
            "linecolor": "white",
            "showbackground": true,
            "ticks": "",
            "zerolinecolor": "white"
           }
          },
          "shapedefaults": {
           "line": {
            "color": "#2a3f5f"
           }
          },
          "ternary": {
           "aaxis": {
            "gridcolor": "white",
            "linecolor": "white",
            "ticks": ""
           },
           "baxis": {
            "gridcolor": "white",
            "linecolor": "white",
            "ticks": ""
           },
           "bgcolor": "#E5ECF6",
           "caxis": {
            "gridcolor": "white",
            "linecolor": "white",
            "ticks": ""
           }
          },
          "title": {
           "x": 0.05
          },
          "xaxis": {
           "automargin": true,
           "gridcolor": "white",
           "linecolor": "white",
           "ticks": "",
           "title": {
            "standoff": 15
           },
           "zerolinecolor": "white",
           "zerolinewidth": 2
          },
          "yaxis": {
           "automargin": true,
           "gridcolor": "white",
           "linecolor": "white",
           "ticks": "",
           "title": {
            "standoff": 15
           },
           "zerolinecolor": "white",
           "zerolinewidth": 2
          }
         }
        },
        "title": {
         "text": "Stock Tweet Volume by Day"
        },
        "xaxis": {
         "anchor": "y",
         "domain": [
          0,
          1
         ],
         "title": {
          "text": "date"
         }
        },
        "yaxis": {
         "anchor": "x",
         "domain": [
          0,
          1
         ],
         "title": {
          "text": "count"
         },
         "type": "log"
        }
       }
      },
      "text/html": [
       "<div>                            <div id=\"d141289f-786d-4b2c-92f9-96b09b6d38f4\" class=\"plotly-graph-div\" style=\"height:525px; width:100%;\"></div>            <script type=\"text/javascript\">                require([\"plotly\"], function(Plotly) {                    window.PLOTLYENV=window.PLOTLYENV || {};                                    if (document.getElementById(\"d141289f-786d-4b2c-92f9-96b09b6d38f4\")) {                    Plotly.newPlot(                        \"d141289f-786d-4b2c-92f9-96b09b6d38f4\",                        [{\"hovertemplate\": \"symbol=BABA<br>date=%{x}<br>count=%{y}<extra></extra>\", \"legendgroup\": \"BABA\", \"line\": {\"color\": \"#636efa\", \"dash\": \"solid\"}, \"mode\": \"lines\", \"name\": \"BABA\", \"orientation\": \"v\", \"showlegend\": true, \"type\": \"scatter\", \"x\": [\"2017-05-24\", \"2017-05-25\", \"2017-05-26\", \"2017-05-27\", \"2017-05-28\", \"2017-05-29\", \"2017-05-30\", \"2017-05-31\", \"2017-06-01\", \"2017-06-02\", \"2017-06-03\", \"2017-06-04\", \"2017-06-05\", \"2017-06-06\", \"2017-06-07\", \"2017-06-08\", \"2017-06-09\", \"2017-06-10\", \"2017-06-11\", \"2017-06-12\", \"2017-06-13\", \"2017-06-14\", \"2017-06-15\", \"2017-06-16\", \"2017-06-17\", \"2017-06-18\", \"2017-06-19\", \"2017-06-20\", \"2017-06-21\", \"2017-06-22\", \"2017-06-23\", \"2017-06-24\", \"2017-06-25\", \"2017-06-26\", \"2017-06-27\", \"2017-06-28\", \"2017-06-29\", \"2017-06-30\", \"2017-07-01\", \"2017-07-02\", \"2017-07-03\", \"2017-07-04\", \"2017-07-05\", \"2017-07-06\", \"2017-07-07\", \"2017-07-08\", \"2017-07-09\", \"2017-07-10\", \"2017-07-11\", \"2017-07-12\", \"2017-07-13\", \"2017-07-14\", \"2017-07-15\", \"2017-07-16\", \"2017-07-17\", \"2017-07-18\", \"2017-07-19\", \"2017-07-20\", \"2017-07-21\", \"2017-07-22\", \"2017-07-23\", \"2017-07-24\", \"2017-07-25\", \"2017-07-26\", \"2017-07-27\", \"2017-08-13\", \"2017-08-14\", \"2017-08-15\", \"2017-08-16\", \"2017-08-17\", \"2017-08-18\", \"2017-08-19\", \"2017-08-20\", \"2017-08-21\", \"2017-08-22\", \"2017-08-23\", \"2017-08-24\", \"2017-08-25\", \"2017-08-26\", \"2017-08-27\", \"2017-08-28\", \"2017-08-29\", \"2017-08-30\", \"2017-08-31\", \"2017-09-01\", \"2017-09-02\"], \"xaxis\": \"x\", \"y\": [49, 174, 113, 45, 30, 144, 278, 417, 325, 292, 136, 170, 214, 140, 247, 3316, 1977, 381, 133, 700, 626, 6, 204, 233, 90, 93, 345, 228, 278, 660, 480, 230, 164, 342, 320, 245, 252, 244, 162, 115, 236, 315, 622, 538, 354, 214, 144, 235, 317, 232, 161, 267, 121, 72, 220, 318, 258, 397, 166, 84, 96, 207, 199, 259, 123, 21, 376, 399, 555, 1421, 1229, 424, 384, 404, 574, 540, 472, 786, 179, 228, 544, 804, 700, 388, 203, 35], \"yaxis\": \"y\"}, {\"hovertemplate\": \"symbol=BCH<br>date=%{x}<br>count=%{y}<extra></extra>\", \"legendgroup\": \"BCH\", \"line\": {\"color\": \"#EF553B\", \"dash\": \"solid\"}, \"mode\": \"lines\", \"name\": \"BCH\", \"orientation\": \"v\", \"showlegend\": true, \"type\": \"scatter\", \"x\": [\"2017-05-24\", \"2017-05-25\", \"2017-05-26\", \"2017-05-27\", \"2017-05-28\", \"2017-05-29\", \"2017-05-30\", \"2017-05-31\", \"2017-06-01\", \"2017-06-02\", \"2017-06-03\", \"2017-06-05\", \"2017-06-06\", \"2017-06-07\", \"2017-06-08\", \"2017-06-09\", \"2017-06-12\", \"2017-06-13\", \"2017-06-15\", \"2017-06-16\", \"2017-06-17\", \"2017-06-19\", \"2017-06-20\", \"2017-06-21\", \"2017-06-22\", \"2017-06-23\", \"2017-06-24\", \"2017-06-25\", \"2017-06-26\", \"2017-06-27\", \"2017-06-28\", \"2017-06-29\", \"2017-06-30\", \"2017-07-02\", \"2017-07-03\", \"2017-07-04\", \"2017-07-05\", \"2017-07-06\", \"2017-07-07\", \"2017-07-08\", \"2017-07-09\", \"2017-07-10\", \"2017-07-11\", \"2017-07-13\", \"2017-07-14\", \"2017-07-15\", \"2017-07-16\", \"2017-07-17\", \"2017-07-18\", \"2017-07-19\", \"2017-07-20\", \"2017-07-21\", \"2017-07-22\", \"2017-07-23\", \"2017-07-24\", \"2017-07-25\", \"2017-07-26\", \"2017-08-13\", \"2017-08-14\", \"2017-08-15\", \"2017-08-16\", \"2017-08-17\", \"2017-08-18\", \"2017-08-19\", \"2017-08-20\", \"2017-08-21\", \"2017-08-22\", \"2017-08-23\", \"2017-08-24\", \"2017-08-25\", \"2017-08-26\", \"2017-08-27\", \"2017-08-28\", \"2017-08-29\", \"2017-08-30\", \"2017-08-31\", \"2017-09-01\", \"2017-09-02\"], \"xaxis\": \"x\", \"y\": [1, 6, 3, 1, 3, 8, 16, 9, 33, 20, 6, 27, 10, 5, 17, 6, 18, 22, 1, 3, 4, 5, 2, 4, 16, 16, 4, 14, 1, 11, 2, 1, 17, 2, 1, 31, 18, 14, 10, 8, 10, 5, 2, 3, 6, 1, 4, 11, 3, 1, 10, 2, 15, 3, 6, 13, 6, 10, 212, 107, 117, 295, 1373, 1536, 1148, 530, 640, 352, 384, 599, 497, 600, 310, 388, 404, 432, 327, 104], \"yaxis\": \"y\"}, {\"hovertemplate\": \"symbol=ETH<br>date=%{x}<br>count=%{y}<extra></extra>\", \"legendgroup\": \"ETH\", \"line\": {\"color\": \"#00cc96\", \"dash\": \"solid\"}, \"mode\": \"lines\", \"name\": \"ETH\", \"orientation\": \"v\", \"showlegend\": true, \"type\": \"scatter\", \"x\": [\"2017-05-24\", \"2017-05-25\", \"2017-05-26\", \"2017-05-27\", \"2017-05-28\", \"2017-05-29\", \"2017-05-30\", \"2017-05-31\", \"2017-06-01\", \"2017-06-02\", \"2017-06-03\", \"2017-06-04\", \"2017-06-05\", \"2017-06-06\", \"2017-06-07\", \"2017-06-08\", \"2017-06-09\", \"2017-06-10\", \"2017-06-11\", \"2017-06-12\", \"2017-06-13\", \"2017-06-14\", \"2017-06-15\", \"2017-06-16\", \"2017-06-17\", \"2017-06-18\", \"2017-06-19\", \"2017-06-20\", \"2017-06-21\", \"2017-06-22\", \"2017-06-23\", \"2017-06-24\", \"2017-06-25\", \"2017-06-26\", \"2017-06-27\", \"2017-06-28\", \"2017-06-29\", \"2017-06-30\", \"2017-07-01\", \"2017-07-02\", \"2017-07-03\", \"2017-07-04\", \"2017-07-05\", \"2017-07-06\", \"2017-07-07\", \"2017-07-08\", \"2017-07-09\", \"2017-07-10\", \"2017-07-11\", \"2017-07-12\", \"2017-07-13\", \"2017-07-14\", \"2017-07-15\", \"2017-07-16\", \"2017-07-17\", \"2017-07-18\", \"2017-07-19\", \"2017-07-20\", \"2017-07-21\", \"2017-07-22\", \"2017-07-23\", \"2017-07-24\", \"2017-07-25\", \"2017-07-26\", \"2017-07-27\", \"2017-08-13\", \"2017-08-14\", \"2017-08-15\", \"2017-08-16\", \"2017-08-17\", \"2017-08-18\", \"2017-08-19\", \"2017-08-20\", \"2017-08-21\", \"2017-08-22\", \"2017-08-23\", \"2017-08-24\", \"2017-08-25\", \"2017-08-26\", \"2017-08-27\", \"2017-08-28\", \"2017-08-29\", \"2017-08-30\", \"2017-08-31\", \"2017-09-01\", \"2017-09-02\"], \"xaxis\": \"x\", \"y\": [239, 536, 329, 385, 356, 774, 2268, 2382, 1314, 876, 858, 1166, 712, 612, 674, 866, 1209, 2397, 1147, 2443, 1218, 18, 404, 599, 598, 584, 526, 601, 798, 1803, 1336, 1210, 1738, 1740, 720, 756, 838, 947, 2366, 711, 690, 1768, 1172, 1026, 1316, 1208, 804, 843, 793, 497, 294, 613, 600, 922, 1201, 1382, 1557, 2040, 886, 1077, 1143, 1053, 1185, 1137, 454, 135, 1181, 1177, 1133, 1181, 1647, 2098, 2122, 1810, 1276, 1290, 1422, 2501, 2511, 2822, 2966, 3072, 2990, 2966, 2095, 677], \"yaxis\": \"y\"}, {\"hovertemplate\": \"symbol=IBM<br>date=%{x}<br>count=%{y}<extra></extra>\", \"legendgroup\": \"IBM\", \"line\": {\"color\": \"#ab63fa\", \"dash\": \"solid\"}, \"mode\": \"lines\", \"name\": \"IBM\", \"orientation\": \"v\", \"showlegend\": true, \"type\": \"scatter\", \"x\": [\"2017-05-24\", \"2017-05-25\", \"2017-05-26\", \"2017-05-27\", \"2017-05-28\", \"2017-05-29\", \"2017-05-30\", \"2017-05-31\", \"2017-06-01\", \"2017-06-02\", \"2017-06-03\", \"2017-06-04\", \"2017-06-05\", \"2017-06-06\", \"2017-06-07\", \"2017-06-08\", \"2017-06-09\", \"2017-06-10\", \"2017-06-11\", \"2017-06-12\", \"2017-06-13\", \"2017-06-14\", \"2017-06-15\", \"2017-06-16\", \"2017-06-17\", \"2017-06-18\", \"2017-06-19\", \"2017-06-20\", \"2017-06-21\", \"2017-06-22\", \"2017-06-23\", \"2017-06-24\", \"2017-06-25\", \"2017-06-26\", \"2017-06-27\", \"2017-06-28\", \"2017-06-29\", \"2017-06-30\", \"2017-07-01\", \"2017-07-02\", \"2017-07-03\", \"2017-07-04\", \"2017-07-05\", \"2017-07-06\", \"2017-07-07\", \"2017-07-08\", \"2017-07-09\", \"2017-07-10\", \"2017-07-11\", \"2017-07-12\", \"2017-07-13\", \"2017-07-14\", \"2017-07-15\", \"2017-07-16\", \"2017-07-17\", \"2017-07-18\", \"2017-07-19\", \"2017-07-20\", \"2017-07-21\", \"2017-07-22\", \"2017-07-23\", \"2017-07-24\", \"2017-07-25\", \"2017-07-26\", \"2017-07-27\", \"2017-08-13\", \"2017-08-14\", \"2017-08-15\", \"2017-08-16\", \"2017-08-17\", \"2017-08-18\", \"2017-08-19\", \"2017-08-20\", \"2017-08-21\", \"2017-08-22\", \"2017-08-23\", \"2017-08-24\", \"2017-08-25\", \"2017-08-26\", \"2017-08-27\", \"2017-08-28\", \"2017-08-29\", \"2017-08-30\", \"2017-08-31\", \"2017-09-01\", \"2017-09-02\"], \"xaxis\": \"x\", \"y\": [112, 172, 148, 55, 60, 234, 463, 792, 661, 519, 318, 326, 458, 234, 520, 598, 750, 495, 183, 577, 350, 5, 172, 252, 130, 158, 289, 229, 133, 700, 596, 336, 394, 477, 368, 248, 187, 145, 142, 141, 158, 210, 270, 380, 284, 146, 164, 218, 207, 155, 130, 183, 124, 123, 465, 1024, 982, 676, 289, 176, 125, 358, 244, 216, 111, 11, 215, 279, 248, 254, 358, 138, 180, 186, 296, 311, 229, 489, 235, 210, 240, 428, 412, 252, 123, 41], \"yaxis\": \"y\"}, {\"hovertemplate\": \"symbol=LLY<br>date=%{x}<br>count=%{y}<extra></extra>\", \"legendgroup\": \"LLY\", \"line\": {\"color\": \"#FFA15A\", \"dash\": \"solid\"}, \"mode\": \"lines\", \"name\": \"LLY\", \"orientation\": \"v\", \"showlegend\": true, \"type\": \"scatter\", \"x\": [\"2017-05-24\", \"2017-05-25\", \"2017-05-26\", \"2017-05-27\", \"2017-05-28\", \"2017-05-29\", \"2017-05-30\", \"2017-05-31\", \"2017-06-01\", \"2017-06-02\", \"2017-06-03\", \"2017-06-04\", \"2017-06-05\", \"2017-06-06\", \"2017-06-07\", \"2017-06-08\", \"2017-06-09\", \"2017-06-10\", \"2017-06-11\", \"2017-06-12\", \"2017-06-13\", \"2017-06-14\", \"2017-06-15\", \"2017-06-16\", \"2017-06-17\", \"2017-06-18\", \"2017-06-19\", \"2017-06-20\", \"2017-06-21\", \"2017-06-22\", \"2017-06-23\", \"2017-06-24\", \"2017-06-25\", \"2017-06-26\", \"2017-06-27\", \"2017-06-28\", \"2017-06-29\", \"2017-06-30\", \"2017-07-01\", \"2017-07-02\", \"2017-07-03\", \"2017-07-04\", \"2017-07-05\", \"2017-07-06\", \"2017-07-07\", \"2017-07-08\", \"2017-07-09\", \"2017-07-10\", \"2017-07-11\", \"2017-07-12\", \"2017-07-13\", \"2017-07-14\", \"2017-07-15\", \"2017-07-16\", \"2017-07-17\", \"2017-07-18\", \"2017-07-19\", \"2017-07-20\", \"2017-07-21\", \"2017-07-22\", \"2017-07-23\", \"2017-07-24\", \"2017-07-25\", \"2017-07-26\", \"2017-07-27\", \"2017-08-13\", \"2017-08-14\", \"2017-08-15\", \"2017-08-16\", \"2017-08-17\", \"2017-08-18\", \"2017-08-19\", \"2017-08-20\", \"2017-08-21\", \"2017-08-22\", \"2017-08-23\", \"2017-08-24\", \"2017-08-25\", \"2017-08-26\", \"2017-08-27\", \"2017-08-28\", \"2017-08-29\", \"2017-08-30\", \"2017-08-31\", \"2017-09-01\", \"2017-09-02\"], \"xaxis\": \"x\", \"y\": [38, 54, 31, 25, 17, 122, 265, 465, 407, 238, 178, 198, 151, 98, 137, 263, 360, 252, 109, 173, 184, 6, 74, 121, 71, 84, 121, 111, 84, 310, 308, 142, 132, 160, 52, 50, 32, 77, 36, 28, 48, 100, 136, 82, 156, 44, 32, 98, 67, 42, 37, 49, 27, 22, 73, 71, 74, 81, 51, 36, 22, 118, 354, 116, 46, 7, 53, 57, 83, 63, 99, 40, 46, 39, 53, 50, 63, 84, 65, 44, 88, 96, 216, 116, 86, 16], \"yaxis\": \"y\"}, {\"hovertemplate\": \"symbol=LTC<br>date=%{x}<br>count=%{y}<extra></extra>\", \"legendgroup\": \"LTC\", \"line\": {\"color\": \"#19d3f3\", \"dash\": \"solid\"}, \"mode\": \"lines\", \"name\": \"LTC\", \"orientation\": \"v\", \"showlegend\": true, \"type\": \"scatter\", \"x\": [\"2017-05-24\", \"2017-05-25\", \"2017-05-26\", \"2017-05-27\", \"2017-05-28\", \"2017-05-29\", \"2017-05-30\", \"2017-05-31\", \"2017-06-01\", \"2017-06-02\", \"2017-06-03\", \"2017-06-04\", \"2017-06-05\", \"2017-06-06\", \"2017-06-07\", \"2017-06-08\", \"2017-06-09\", \"2017-06-10\", \"2017-06-11\", \"2017-06-12\", \"2017-06-13\", \"2017-06-14\", \"2017-06-15\", \"2017-06-16\", \"2017-06-17\", \"2017-06-18\", \"2017-06-19\", \"2017-06-20\", \"2017-06-21\", \"2017-06-22\", \"2017-06-23\", \"2017-06-24\", \"2017-06-25\", \"2017-06-26\", \"2017-06-27\", \"2017-06-28\", \"2017-06-29\", \"2017-06-30\", \"2017-07-01\", \"2017-07-02\", \"2017-07-03\", \"2017-07-04\", \"2017-07-05\", \"2017-07-06\", \"2017-07-07\", \"2017-07-08\", \"2017-07-09\", \"2017-07-10\", \"2017-07-11\", \"2017-07-12\", \"2017-07-13\", \"2017-07-14\", \"2017-07-15\", \"2017-07-16\", \"2017-07-17\", \"2017-07-18\", \"2017-07-19\", \"2017-07-20\", \"2017-07-21\", \"2017-07-22\", \"2017-07-23\", \"2017-07-24\", \"2017-07-25\", \"2017-07-26\", \"2017-07-27\", \"2017-08-13\", \"2017-08-14\", \"2017-08-15\", \"2017-08-16\", \"2017-08-17\", \"2017-08-18\", \"2017-08-19\", \"2017-08-20\", \"2017-08-21\", \"2017-08-22\", \"2017-08-23\", \"2017-08-24\", \"2017-08-25\", \"2017-08-26\", \"2017-08-27\", \"2017-08-28\", \"2017-08-29\", \"2017-08-30\", \"2017-08-31\", \"2017-09-01\", \"2017-09-02\"], \"xaxis\": \"x\", \"y\": [126, 301, 170, 170, 163, 188, 501, 531, 630, 334, 288, 386, 311, 250, 264, 499, 609, 729, 347, 408, 202, 10, 207, 350, 903, 312, 576, 235, 135, 633, 542, 400, 412, 480, 270, 304, 217, 334, 1018, 300, 537, 2134, 966, 868, 910, 706, 558, 483, 397, 250, 213, 466, 297, 489, 787, 855, 744, 1472, 720, 721, 735, 704, 723, 636, 226, 98, 917, 884, 828, 853, 1245, 1646, 1424, 1090, 966, 1311, 1334, 1714, 1432, 2716, 2298, 1950, 1708, 2744, 2602, 708], \"yaxis\": \"y\"}, {\"hovertemplate\": \"symbol=PSTG<br>date=%{x}<br>count=%{y}<extra></extra>\", \"legendgroup\": \"PSTG\", \"line\": {\"color\": \"#FF6692\", \"dash\": \"solid\"}, \"mode\": \"lines\", \"name\": \"PSTG\", \"orientation\": \"v\", \"showlegend\": true, \"type\": \"scatter\", \"x\": [\"2017-05-24\", \"2017-05-25\", \"2017-05-26\", \"2017-05-27\", \"2017-05-28\", \"2017-05-29\", \"2017-05-30\", \"2017-05-31\", \"2017-06-01\", \"2017-06-02\", \"2017-06-03\", \"2017-06-04\", \"2017-06-05\", \"2017-06-06\", \"2017-06-07\", \"2017-06-08\", \"2017-06-09\", \"2017-06-10\", \"2017-06-11\", \"2017-06-12\", \"2017-06-13\", \"2017-06-14\", \"2017-06-15\", \"2017-06-16\", \"2017-06-17\", \"2017-06-18\", \"2017-06-19\", \"2017-06-20\", \"2017-06-21\", \"2017-06-22\", \"2017-06-23\", \"2017-06-24\", \"2017-06-25\", \"2017-06-26\", \"2017-06-27\", \"2017-06-28\", \"2017-06-29\", \"2017-06-30\", \"2017-07-01\", \"2017-07-02\", \"2017-07-03\", \"2017-07-04\", \"2017-07-05\", \"2017-07-06\", \"2017-07-07\", \"2017-07-08\", \"2017-07-09\", \"2017-07-10\", \"2017-07-11\", \"2017-07-12\", \"2017-07-13\", \"2017-07-14\", \"2017-07-15\", \"2017-07-16\", \"2017-07-17\", \"2017-07-18\", \"2017-07-19\", \"2017-07-20\", \"2017-07-21\", \"2017-07-22\", \"2017-07-23\", \"2017-07-24\", \"2017-07-25\", \"2017-07-26\", \"2017-07-27\", \"2017-08-14\", \"2017-08-15\", \"2017-08-16\", \"2017-08-17\", \"2017-08-18\", \"2017-08-19\", \"2017-08-20\", \"2017-08-21\", \"2017-08-22\", \"2017-08-23\", \"2017-08-24\", \"2017-08-25\", \"2017-08-26\", \"2017-08-27\", \"2017-08-28\", \"2017-08-29\", \"2017-08-30\", \"2017-08-31\", \"2017-09-01\", \"2017-09-02\"], \"xaxis\": \"x\", \"y\": [72, 153, 74, 29, 5, 70, 90, 165, 72, 42, 16, 14, 7, 14, 7, 20, 15, 54, 4, 4, 41, 3, 27, 36, 10, 25, 62, 24, 8, 70, 70, 36, 34, 30, 16, 28, 6, 8, 16, 3, 5, 7, 20, 26, 14, 82, 9, 22, 24, 14, 8, 8, 9, 13, 15, 17, 17, 25, 8, 5, 7, 7, 14, 14, 7, 46, 21, 21, 27, 62, 8, 12, 9, 8, 20, 114, 484, 120, 82, 170, 98, 94, 24, 19, 6], \"yaxis\": \"y\"}, {\"hovertemplate\": \"symbol=SPY<br>date=%{x}<br>count=%{y}<extra></extra>\", \"legendgroup\": \"SPY\", \"line\": {\"color\": \"#B6E880\", \"dash\": \"solid\"}, \"mode\": \"lines\", \"name\": \"SPY\", \"orientation\": \"v\", \"showlegend\": true, \"type\": \"scatter\", \"x\": [\"2017-05-24\", \"2017-05-25\", \"2017-05-26\", \"2017-05-27\", \"2017-05-28\", \"2017-05-29\", \"2017-05-30\", \"2017-05-31\", \"2017-06-01\", \"2017-06-02\", \"2017-06-03\", \"2017-06-04\", \"2017-06-05\", \"2017-06-06\", \"2017-06-07\", \"2017-06-08\", \"2017-06-09\", \"2017-06-10\", \"2017-06-11\", \"2017-06-12\", \"2017-06-13\", \"2017-06-14\", \"2017-06-15\", \"2017-06-16\", \"2017-06-17\", \"2017-06-18\", \"2017-06-19\", \"2017-06-20\", \"2017-06-21\", \"2017-06-22\", \"2017-06-23\", \"2017-06-24\", \"2017-06-25\", \"2017-06-26\", \"2017-06-27\", \"2017-06-28\", \"2017-06-29\", \"2017-06-30\", \"2017-07-01\", \"2017-07-02\", \"2017-07-03\", \"2017-07-04\", \"2017-07-05\", \"2017-07-06\", \"2017-07-07\", \"2017-07-08\", \"2017-07-09\", \"2017-07-10\", \"2017-07-11\", \"2017-07-12\", \"2017-07-13\", \"2017-07-14\", \"2017-07-15\", \"2017-07-16\", \"2017-07-17\", \"2017-07-18\", \"2017-07-19\", \"2017-07-20\", \"2017-07-21\", \"2017-07-22\", \"2017-07-23\", \"2017-07-24\", \"2017-07-25\", \"2017-07-26\", \"2017-07-27\", \"2017-08-13\", \"2017-08-14\", \"2017-08-15\", \"2017-08-16\", \"2017-08-17\", \"2017-08-18\", \"2017-08-19\", \"2017-08-20\", \"2017-08-21\", \"2017-08-22\", \"2017-08-23\", \"2017-08-24\", \"2017-08-25\", \"2017-08-26\", \"2017-08-27\", \"2017-08-28\", \"2017-08-29\", \"2017-08-30\", \"2017-08-31\", \"2017-09-01\", \"2017-09-02\"], \"xaxis\": \"x\", \"y\": [277, 574, 445, 177, 180, 476, 1267, 1887, 1512, 1288, 772, 696, 710, 621, 914, 1381, 2072, 744, 384, 1248, 852, 13, 477, 547, 244, 242, 626, 486, 286, 1107, 1084, 572, 546, 1063, 704, 716, 763, 772, 472, 279, 530, 546, 1142, 1170, 1064, 500, 363, 548, 532, 344, 289, 554, 188, 262, 509, 566, 601, 944, 510, 242, 205, 483, 498, 573, 232, 32, 584, 558, 570, 703, 902, 446, 592, 607, 563, 554, 575, 970, 369, 516, 1024, 1194, 1200, 1162, 609, 95], \"yaxis\": \"y\"}, {\"hovertemplate\": \"symbol=TWTR<br>date=%{x}<br>count=%{y}<extra></extra>\", \"legendgroup\": \"TWTR\", \"line\": {\"color\": \"#FF97FF\", \"dash\": \"solid\"}, \"mode\": \"lines\", \"name\": \"TWTR\", \"orientation\": \"v\", \"showlegend\": true, \"type\": \"scatter\", \"x\": [\"2017-05-24\", \"2017-05-25\", \"2017-05-26\", \"2017-05-27\", \"2017-05-28\", \"2017-05-29\", \"2017-05-30\", \"2017-05-31\", \"2017-06-01\", \"2017-06-02\", \"2017-06-03\", \"2017-06-04\", \"2017-06-05\", \"2017-06-06\", \"2017-06-07\", \"2017-06-08\", \"2017-06-09\", \"2017-06-10\", \"2017-06-11\", \"2017-06-12\", \"2017-06-13\", \"2017-06-14\", \"2017-06-15\", \"2017-06-16\", \"2017-06-17\", \"2017-06-18\", \"2017-06-19\", \"2017-06-20\", \"2017-06-21\", \"2017-06-22\", \"2017-06-23\", \"2017-06-24\", \"2017-06-25\", \"2017-06-26\", \"2017-06-27\", \"2017-06-28\", \"2017-06-29\", \"2017-06-30\", \"2017-07-01\", \"2017-07-02\", \"2017-07-03\", \"2017-07-04\", \"2017-07-05\", \"2017-07-06\", \"2017-07-07\", \"2017-07-08\", \"2017-07-09\", \"2017-07-10\", \"2017-07-11\", \"2017-07-12\", \"2017-07-13\", \"2017-07-14\", \"2017-07-15\", \"2017-07-16\", \"2017-07-17\", \"2017-07-18\", \"2017-07-19\", \"2017-07-20\", \"2017-07-21\", \"2017-07-22\", \"2017-07-23\", \"2017-07-24\", \"2017-07-25\", \"2017-07-26\", \"2017-07-27\", \"2017-08-13\", \"2017-08-14\", \"2017-08-15\", \"2017-08-16\", \"2017-08-17\", \"2017-08-18\", \"2017-08-19\", \"2017-08-20\", \"2017-08-21\", \"2017-08-22\", \"2017-08-23\", \"2017-08-24\", \"2017-08-25\", \"2017-08-26\", \"2017-08-27\", \"2017-08-28\", \"2017-08-29\", \"2017-08-30\", \"2017-08-31\", \"2017-09-01\", \"2017-09-02\"], \"xaxis\": \"x\", \"y\": [283, 523, 357, 180, 165, 512, 1354, 2073, 1341, 1084, 684, 584, 644, 669, 936, 1319, 1866, 1014, 406, 809, 822, 23, 688, 799, 520, 467, 832, 407, 463, 1806, 1518, 1164, 1116, 1302, 798, 795, 705, 940, 620, 609, 657, 826, 1202, 1994, 1632, 992, 762, 708, 985, 641, 384, 804, 367, 308, 687, 664, 601, 1470, 620, 383, 400, 660, 805, 943, 944, 37, 554, 557, 609, 708, 860, 610, 648, 539, 557, 645, 656, 1233, 742, 840, 770, 1090, 1054, 898, 471, 141], \"yaxis\": \"y\"}, {\"hovertemplate\": \"symbol=XOM<br>date=%{x}<br>count=%{y}<extra></extra>\", \"legendgroup\": \"XOM\", \"line\": {\"color\": \"#FECB52\", \"dash\": \"solid\"}, \"mode\": \"lines\", \"name\": \"XOM\", \"orientation\": \"v\", \"showlegend\": true, \"type\": \"scatter\", \"x\": [\"2017-05-24\", \"2017-05-25\", \"2017-05-26\", \"2017-05-27\", \"2017-05-28\", \"2017-05-29\", \"2017-05-30\", \"2017-05-31\", \"2017-06-01\", \"2017-06-02\", \"2017-06-03\", \"2017-06-04\", \"2017-06-05\", \"2017-06-06\", \"2017-06-07\", \"2017-06-08\", \"2017-06-09\", \"2017-06-10\", \"2017-06-11\", \"2017-06-12\", \"2017-06-13\", \"2017-06-14\", \"2017-06-15\", \"2017-06-16\", \"2017-06-17\", \"2017-06-18\", \"2017-06-19\", \"2017-06-20\", \"2017-06-21\", \"2017-06-22\", \"2017-06-23\", \"2017-06-24\", \"2017-06-25\", \"2017-06-26\", \"2017-06-27\", \"2017-06-28\", \"2017-06-29\", \"2017-06-30\", \"2017-07-01\", \"2017-07-02\", \"2017-07-03\", \"2017-07-04\", \"2017-07-05\", \"2017-07-06\", \"2017-07-07\", \"2017-07-08\", \"2017-07-09\", \"2017-07-10\", \"2017-07-11\", \"2017-07-12\", \"2017-07-13\", \"2017-07-14\", \"2017-07-15\", \"2017-07-16\", \"2017-07-17\", \"2017-07-18\", \"2017-07-19\", \"2017-07-20\", \"2017-07-21\", \"2017-07-22\", \"2017-07-23\", \"2017-07-24\", \"2017-07-25\", \"2017-07-26\", \"2017-07-27\", \"2017-08-13\", \"2017-08-14\", \"2017-08-15\", \"2017-08-16\", \"2017-08-17\", \"2017-08-18\", \"2017-08-19\", \"2017-08-20\", \"2017-08-21\", \"2017-08-22\", \"2017-08-23\", \"2017-08-24\", \"2017-08-25\", \"2017-08-26\", \"2017-08-27\", \"2017-08-28\", \"2017-08-29\", \"2017-08-30\", \"2017-08-31\", \"2017-09-01\", \"2017-09-02\"], \"xaxis\": \"x\", \"y\": [86, 129, 76, 37, 21, 164, 417, 1011, 606, 550, 262, 236, 299, 183, 319, 352, 438, 339, 123, 277, 213, 1, 103, 181, 97, 97, 177, 244, 110, 502, 408, 194, 192, 278, 125, 105, 90, 162, 88, 57, 108, 196, 330, 310, 308, 128, 101, 117, 195, 94, 74, 101, 60, 44, 83, 110, 86, 379, 154, 72, 41, 121, 175, 118, 73, 5, 179, 156, 204, 192, 355, 148, 124, 237, 129, 225, 202, 314, 152, 186, 406, 636, 388, 232, 138, 30], \"yaxis\": \"y\"}],                        {\"legend\": {\"title\": {\"text\": \"symbol\"}, \"tracegroupgap\": 0}, \"template\": {\"data\": {\"bar\": [{\"error_x\": {\"color\": \"#2a3f5f\"}, \"error_y\": {\"color\": \"#2a3f5f\"}, \"marker\": {\"line\": {\"color\": \"#E5ECF6\", \"width\": 0.5}}, \"type\": \"bar\"}], \"barpolar\": [{\"marker\": {\"line\": {\"color\": \"#E5ECF6\", \"width\": 0.5}}, \"type\": \"barpolar\"}], \"carpet\": [{\"aaxis\": {\"endlinecolor\": \"#2a3f5f\", \"gridcolor\": \"white\", \"linecolor\": \"white\", \"minorgridcolor\": \"white\", \"startlinecolor\": \"#2a3f5f\"}, \"baxis\": {\"endlinecolor\": \"#2a3f5f\", \"gridcolor\": \"white\", \"linecolor\": \"white\", \"minorgridcolor\": \"white\", \"startlinecolor\": \"#2a3f5f\"}, \"type\": \"carpet\"}], \"choropleth\": [{\"colorbar\": {\"outlinewidth\": 0, \"ticks\": \"\"}, \"type\": \"choropleth\"}], \"contour\": [{\"colorbar\": {\"outlinewidth\": 0, \"ticks\": \"\"}, \"colorscale\": [[0.0, \"#0d0887\"], [0.1111111111111111, \"#46039f\"], [0.2222222222222222, \"#7201a8\"], [0.3333333333333333, \"#9c179e\"], [0.4444444444444444, \"#bd3786\"], [0.5555555555555556, \"#d8576b\"], [0.6666666666666666, \"#ed7953\"], [0.7777777777777778, \"#fb9f3a\"], [0.8888888888888888, \"#fdca26\"], [1.0, \"#f0f921\"]], \"type\": \"contour\"}], \"contourcarpet\": [{\"colorbar\": {\"outlinewidth\": 0, \"ticks\": \"\"}, \"type\": \"contourcarpet\"}], \"heatmap\": [{\"colorbar\": {\"outlinewidth\": 0, \"ticks\": \"\"}, \"colorscale\": [[0.0, \"#0d0887\"], [0.1111111111111111, \"#46039f\"], [0.2222222222222222, \"#7201a8\"], [0.3333333333333333, \"#9c179e\"], [0.4444444444444444, \"#bd3786\"], [0.5555555555555556, \"#d8576b\"], [0.6666666666666666, \"#ed7953\"], [0.7777777777777778, \"#fb9f3a\"], [0.8888888888888888, \"#fdca26\"], [1.0, \"#f0f921\"]], \"type\": \"heatmap\"}], \"heatmapgl\": [{\"colorbar\": {\"outlinewidth\": 0, \"ticks\": \"\"}, \"colorscale\": [[0.0, \"#0d0887\"], [0.1111111111111111, \"#46039f\"], [0.2222222222222222, \"#7201a8\"], [0.3333333333333333, \"#9c179e\"], [0.4444444444444444, \"#bd3786\"], [0.5555555555555556, \"#d8576b\"], [0.6666666666666666, \"#ed7953\"], [0.7777777777777778, \"#fb9f3a\"], [0.8888888888888888, \"#fdca26\"], [1.0, \"#f0f921\"]], \"type\": \"heatmapgl\"}], \"histogram\": [{\"marker\": {\"colorbar\": {\"outlinewidth\": 0, \"ticks\": \"\"}}, \"type\": \"histogram\"}], \"histogram2d\": [{\"colorbar\": {\"outlinewidth\": 0, \"ticks\": \"\"}, \"colorscale\": [[0.0, \"#0d0887\"], [0.1111111111111111, \"#46039f\"], [0.2222222222222222, \"#7201a8\"], [0.3333333333333333, \"#9c179e\"], [0.4444444444444444, \"#bd3786\"], [0.5555555555555556, \"#d8576b\"], [0.6666666666666666, \"#ed7953\"], [0.7777777777777778, \"#fb9f3a\"], [0.8888888888888888, \"#fdca26\"], [1.0, \"#f0f921\"]], \"type\": \"histogram2d\"}], \"histogram2dcontour\": [{\"colorbar\": {\"outlinewidth\": 0, \"ticks\": \"\"}, \"colorscale\": [[0.0, \"#0d0887\"], [0.1111111111111111, \"#46039f\"], [0.2222222222222222, \"#7201a8\"], [0.3333333333333333, \"#9c179e\"], [0.4444444444444444, \"#bd3786\"], [0.5555555555555556, \"#d8576b\"], [0.6666666666666666, \"#ed7953\"], [0.7777777777777778, \"#fb9f3a\"], [0.8888888888888888, \"#fdca26\"], [1.0, \"#f0f921\"]], \"type\": \"histogram2dcontour\"}], \"mesh3d\": [{\"colorbar\": {\"outlinewidth\": 0, \"ticks\": \"\"}, \"type\": \"mesh3d\"}], \"parcoords\": [{\"line\": {\"colorbar\": {\"outlinewidth\": 0, \"ticks\": \"\"}}, \"type\": \"parcoords\"}], \"pie\": [{\"automargin\": true, \"type\": \"pie\"}], \"scatter\": [{\"marker\": {\"colorbar\": {\"outlinewidth\": 0, \"ticks\": \"\"}}, \"type\": \"scatter\"}], \"scatter3d\": [{\"line\": {\"colorbar\": {\"outlinewidth\": 0, \"ticks\": \"\"}}, \"marker\": {\"colorbar\": {\"outlinewidth\": 0, \"ticks\": \"\"}}, \"type\": \"scatter3d\"}], \"scattercarpet\": [{\"marker\": {\"colorbar\": {\"outlinewidth\": 0, \"ticks\": \"\"}}, \"type\": \"scattercarpet\"}], \"scattergeo\": [{\"marker\": {\"colorbar\": {\"outlinewidth\": 0, \"ticks\": \"\"}}, \"type\": \"scattergeo\"}], \"scattergl\": [{\"marker\": {\"colorbar\": {\"outlinewidth\": 0, \"ticks\": \"\"}}, \"type\": \"scattergl\"}], \"scattermapbox\": [{\"marker\": {\"colorbar\": {\"outlinewidth\": 0, \"ticks\": \"\"}}, \"type\": \"scattermapbox\"}], \"scatterpolar\": [{\"marker\": {\"colorbar\": {\"outlinewidth\": 0, \"ticks\": \"\"}}, \"type\": \"scatterpolar\"}], \"scatterpolargl\": [{\"marker\": {\"colorbar\": {\"outlinewidth\": 0, \"ticks\": \"\"}}, \"type\": \"scatterpolargl\"}], \"scatterternary\": [{\"marker\": {\"colorbar\": {\"outlinewidth\": 0, \"ticks\": \"\"}}, \"type\": \"scatterternary\"}], \"surface\": [{\"colorbar\": {\"outlinewidth\": 0, \"ticks\": \"\"}, \"colorscale\": [[0.0, \"#0d0887\"], [0.1111111111111111, \"#46039f\"], [0.2222222222222222, \"#7201a8\"], [0.3333333333333333, \"#9c179e\"], [0.4444444444444444, \"#bd3786\"], [0.5555555555555556, \"#d8576b\"], [0.6666666666666666, \"#ed7953\"], [0.7777777777777778, \"#fb9f3a\"], [0.8888888888888888, \"#fdca26\"], [1.0, \"#f0f921\"]], \"type\": \"surface\"}], \"table\": [{\"cells\": {\"fill\": {\"color\": \"#EBF0F8\"}, \"line\": {\"color\": \"white\"}}, \"header\": {\"fill\": {\"color\": \"#C8D4E3\"}, \"line\": {\"color\": \"white\"}}, \"type\": \"table\"}]}, \"layout\": {\"annotationdefaults\": {\"arrowcolor\": \"#2a3f5f\", \"arrowhead\": 0, \"arrowwidth\": 1}, \"autotypenumbers\": \"strict\", \"coloraxis\": {\"colorbar\": {\"outlinewidth\": 0, \"ticks\": \"\"}}, \"colorscale\": {\"diverging\": [[0, \"#8e0152\"], [0.1, \"#c51b7d\"], [0.2, \"#de77ae\"], [0.3, \"#f1b6da\"], [0.4, \"#fde0ef\"], [0.5, \"#f7f7f7\"], [0.6, \"#e6f5d0\"], [0.7, \"#b8e186\"], [0.8, \"#7fbc41\"], [0.9, \"#4d9221\"], [1, \"#276419\"]], \"sequential\": [[0.0, \"#0d0887\"], [0.1111111111111111, \"#46039f\"], [0.2222222222222222, \"#7201a8\"], [0.3333333333333333, \"#9c179e\"], [0.4444444444444444, \"#bd3786\"], [0.5555555555555556, \"#d8576b\"], [0.6666666666666666, \"#ed7953\"], [0.7777777777777778, \"#fb9f3a\"], [0.8888888888888888, \"#fdca26\"], [1.0, \"#f0f921\"]], \"sequentialminus\": [[0.0, \"#0d0887\"], [0.1111111111111111, \"#46039f\"], [0.2222222222222222, \"#7201a8\"], [0.3333333333333333, \"#9c179e\"], [0.4444444444444444, \"#bd3786\"], [0.5555555555555556, \"#d8576b\"], [0.6666666666666666, \"#ed7953\"], [0.7777777777777778, \"#fb9f3a\"], [0.8888888888888888, \"#fdca26\"], [1.0, \"#f0f921\"]]}, \"colorway\": [\"#636efa\", \"#EF553B\", \"#00cc96\", \"#ab63fa\", \"#FFA15A\", \"#19d3f3\", \"#FF6692\", \"#B6E880\", \"#FF97FF\", \"#FECB52\"], \"font\": {\"color\": \"#2a3f5f\"}, \"geo\": {\"bgcolor\": \"white\", \"lakecolor\": \"white\", \"landcolor\": \"#E5ECF6\", \"showlakes\": true, \"showland\": true, \"subunitcolor\": \"white\"}, \"hoverlabel\": {\"align\": \"left\"}, \"hovermode\": \"closest\", \"mapbox\": {\"style\": \"light\"}, \"paper_bgcolor\": \"white\", \"plot_bgcolor\": \"#E5ECF6\", \"polar\": {\"angularaxis\": {\"gridcolor\": \"white\", \"linecolor\": \"white\", \"ticks\": \"\"}, \"bgcolor\": \"#E5ECF6\", \"radialaxis\": {\"gridcolor\": \"white\", \"linecolor\": \"white\", \"ticks\": \"\"}}, \"scene\": {\"xaxis\": {\"backgroundcolor\": \"#E5ECF6\", \"gridcolor\": \"white\", \"gridwidth\": 2, \"linecolor\": \"white\", \"showbackground\": true, \"ticks\": \"\", \"zerolinecolor\": \"white\"}, \"yaxis\": {\"backgroundcolor\": \"#E5ECF6\", \"gridcolor\": \"white\", \"gridwidth\": 2, \"linecolor\": \"white\", \"showbackground\": true, \"ticks\": \"\", \"zerolinecolor\": \"white\"}, \"zaxis\": {\"backgroundcolor\": \"#E5ECF6\", \"gridcolor\": \"white\", \"gridwidth\": 2, \"linecolor\": \"white\", \"showbackground\": true, \"ticks\": \"\", \"zerolinecolor\": \"white\"}}, \"shapedefaults\": {\"line\": {\"color\": \"#2a3f5f\"}}, \"ternary\": {\"aaxis\": {\"gridcolor\": \"white\", \"linecolor\": \"white\", \"ticks\": \"\"}, \"baxis\": {\"gridcolor\": \"white\", \"linecolor\": \"white\", \"ticks\": \"\"}, \"bgcolor\": \"#E5ECF6\", \"caxis\": {\"gridcolor\": \"white\", \"linecolor\": \"white\", \"ticks\": \"\"}}, \"title\": {\"x\": 0.05}, \"xaxis\": {\"automargin\": true, \"gridcolor\": \"white\", \"linecolor\": \"white\", \"ticks\": \"\", \"title\": {\"standoff\": 15}, \"zerolinecolor\": \"white\", \"zerolinewidth\": 2}, \"yaxis\": {\"automargin\": true, \"gridcolor\": \"white\", \"linecolor\": \"white\", \"ticks\": \"\", \"title\": {\"standoff\": 15}, \"zerolinecolor\": \"white\", \"zerolinewidth\": 2}}}, \"title\": {\"text\": \"Stock Tweet Volume by Day\"}, \"xaxis\": {\"anchor\": \"y\", \"domain\": [0.0, 1.0], \"title\": {\"text\": \"date\"}}, \"yaxis\": {\"anchor\": \"x\", \"domain\": [0.0, 1.0], \"title\": {\"text\": \"count\"}, \"type\": \"log\"}},                        {\"responsive\": true}                    ).then(function(){\n",
       "                            \n",
       "var gd = document.getElementById('d141289f-786d-4b2c-92f9-96b09b6d38f4');\n",
       "var x = new MutationObserver(function (mutations, observer) {{\n",
       "        var display = window.getComputedStyle(gd).display;\n",
       "        if (!display || display === 'none') {{\n",
       "            console.log([gd, 'removed!']);\n",
       "            Plotly.purge(gd);\n",
       "            observer.disconnect();\n",
       "        }}\n",
       "}});\n",
       "\n",
       "// Listen for the removal of the full notebook cells\n",
       "var notebookContainer = gd.closest('#notebook-container');\n",
       "if (notebookContainer) {{\n",
       "    x.observe(notebookContainer, {childList: true});\n",
       "}}\n",
       "\n",
       "// Listen for the clearing of the current output cell\n",
       "var outputEl = gd.closest('.output');\n",
       "if (outputEl) {{\n",
       "    x.observe(outputEl, {childList: true});\n",
       "}}\n",
       "\n",
       "                        })                };                });            </script>        </div>"
      ]
     },
     "metadata": {},
     "output_type": "display_data"
    }
   ],
   "source": [
    "stocklist=df2['symbol'].to_list()\n",
    "stocksmall=df[df['symbol'].isin(stocklist)]\n",
    "fig = px.line(stocksmall, \n",
    "              x='date',\n",
    "              y='count', \n",
    "              color = 'symbol', \n",
    "              title='Stock Tweet Volume by Day', \n",
    "              log_y = True)\n",
    "fig.show()"
   ]
  },
  {
   "cell_type": "markdown",
   "metadata": {},
   "source": [
    "4b. In the code above we use the [`date_trunc()`](https://www.postgresql.org/docs/12/functions-datetime.html) function in Postgres.  Explain why we use it.  Look at the graph you've made.  Are there any patterns you see in the data?  Discuss them and potential issues they may cause in our analysis."
   ]
  },
  {
   "cell_type": "markdown",
   "metadata": {},
   "source": [
    "ANSWER: \n",
    "date_trunc() will only parse information down to the instructed level. In ths case, date_trunc('day', ct.createdate) will return \n"
   ]
  }
 ],
 "metadata": {
  "kernelspec": {
   "display_name": "Python 3",
   "language": "python",
   "name": "python3"
  },
  "language_info": {
   "codemirror_mode": {
    "name": "ipython",
    "version": 3
   },
   "file_extension": ".py",
   "mimetype": "text/x-python",
   "name": "python",
   "nbconvert_exporter": "python",
   "pygments_lexer": "ipython3",
   "version": "3.8.5"
  }
 },
 "nbformat": 4,
 "nbformat_minor": 2
}
