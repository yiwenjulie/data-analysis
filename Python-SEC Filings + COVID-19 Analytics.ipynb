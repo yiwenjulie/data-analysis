{
 "cells": [
  {
   "cell_type": "markdown",
   "metadata": {},
   "source": [
    "SEC Filings + COVID-19 Analytics Julie Zhang\n"
   ]
  },
  {
   "cell_type": "markdown",
   "metadata": {},
   "source": [
    "### Import the appropriate library you need to solve the questions."
   ]
  },
  {
   "cell_type": "code",
   "execution_count": 2,
   "metadata": {},
   "outputs": [],
   "source": [
    "from collections import Counter\n",
    "import pandas as pd\n",
    "import numpy as np\n",
    "import matplotlib.pyplot as plt\n",
    "import statistics\n",
    "import random"
   ]
  },
  {
   "cell_type": "markdown",
   "metadata": {},
   "source": [
    "### Please assign the variables `first_name`, `last_name`, `student_id`, and `email` with your first name, last name, student ID, and email address."
   ]
  },
  {
   "cell_type": "code",
   "execution_count": 4,
   "metadata": {},
   "outputs": [],
   "source": [
    "first_name = str(\"Julie\")\n",
    "last_name = str(\"Zhang\")\n",
    "student_id = int(\"000000\")\n",
    "email = str(\"juliezyw@gmail.com\")"
   ]
  },
  {
   "cell_type": "markdown",
   "metadata": {},
   "source": [
    "## [SEC analytics : Question 1 - 13]"
   ]
  },
  {
   "cell_type": "markdown",
   "metadata": {},
   "source": [
    "##### Question 1: Find the number of characters in this file and assign it to the `ans1` variable.\n",
    "- Download `feed_header_2017-2019.tsv` file into the same directory, where `hw1_starter.ipynb` is located. (If not, there will be an extra deduction on your grade)\n",
    "- Open `feed_header_2017-2019.tsv` file with `read-only` file mode.\n",
    "- Please use `open` function to open this `TSV` file.\n",
    "- `TSV` file is similar to `CSV`, but its value is separated by `Tab`.\n",
    "\n",
    "[Hint]\n",
    "- `open` function : https://www.w3schools.com/python/ref_func_open.asp"
   ]
  },
  {
   "cell_type": "code",
   "execution_count": 4,
   "metadata": {},
   "outputs": [
    {
     "name": "stdout",
     "output_type": "stream",
     "text": [
      "316388908\n"
     ]
    }
   ],
   "source": [
    "with open(\"feed_header_2017-2019.tsv\", \"r\") as infile:\n",
    "    text = infile.read()\n",
    "ans1 = int(len(text))\n",
    "print(ans1)"
   ]
  },
  {
   "cell_type": "markdown",
   "metadata": {},
   "source": [
    "##### Question 2: Find the number of words in the file and assign it to the `ans2` variable.\n",
    "- We consider <b>word</b> as all numbers, special characters, and text separated by white space."
   ]
  },
  {
   "cell_type": "code",
   "execution_count": 187,
   "metadata": {},
   "outputs": [
    {
     "name": "stdout",
     "output_type": "stream",
     "text": [
      "26223290\n"
     ]
    }
   ],
   "source": [
    "ans2 = int(len(text.split()))\n",
    "print(ans2)"
   ]
  },
  {
   "cell_type": "markdown",
   "metadata": {},
   "source": [
    "##### Question 3: Find the number of lines in the file and assign it to the `ans3` variable."
   ]
  },
  {
   "cell_type": "code",
   "execution_count": 188,
   "metadata": {},
   "outputs": [
    {
     "name": "stdout",
     "output_type": "stream",
     "text": [
      "1765125\n"
     ]
    }
   ],
   "source": [
    "with open(\"feed_header_2017-2019.tsv\", \"r\") as infile:\n",
    "    lines = infile.readlines()\n",
    "ans3 = int(len(lines))\n",
    "print(ans3)"
   ]
  },
  {
   "cell_type": "markdown",
   "metadata": {},
   "source": [
    "### From now on, you will decide which industry area you will analyze for investigating the trend of that industry. \n",
    "### To do so, you will select the first digit `SIC` code.\n",
    "\n",
    "##### Question 4: Divide the `student_id` by 8, and add 1 to the `remainder`. Assign its value to the `ans4` variable.\n"
   ]
  },
  {
   "cell_type": "code",
   "execution_count": 6,
   "metadata": {},
   "outputs": [
    {
     "name": "stdout",
     "output_type": "stream",
     "text": [
      "7\n"
     ]
    }
   ],
   "source": [
    "ans4= int((student_id % 8) + 1)\n",
    "print(ans4)"
   ]
  },
  {
   "cell_type": "markdown",
   "metadata": {},
   "source": [
    "### Now, you have the first digit of `SIC` that you will analyze.\n",
    "### Please extract the rows of the following condition. \n",
    "- Read the `tsv` using `pandas` function. \n",
    "- Save the dataframe name as `df`.\n",
    "- We need rows with an `ASSIGNED-SIC` column value starting with the value of `ans4`.      \n",
    "- You can extract this condition using various methods such as  `for-loop`, `pandas`, and `numpy`.\n",
    "\n",
    "\n",
    "##### Question 5: Find the shape of `df` and assign it to the `ans5` variable."
   ]
  },
  {
   "cell_type": "code",
   "execution_count": 13,
   "metadata": {},
   "outputs": [
    {
     "name": "stdout",
     "output_type": "stream",
     "text": [
      "(1765124, 12)\n",
      "(143798, 12)\n"
     ]
    },
    {
     "data": {
      "text/html": [
       "<div>\n",
       "<style scoped>\n",
       "    .dataframe tbody tr th:only-of-type {\n",
       "        vertical-align: middle;\n",
       "    }\n",
       "\n",
       "    .dataframe tbody tr th {\n",
       "        vertical-align: top;\n",
       "    }\n",
       "\n",
       "    .dataframe thead th {\n",
       "        text-align: right;\n",
       "    }\n",
       "</style>\n",
       "<table border=\"1\" class=\"dataframe\">\n",
       "  <thead>\n",
       "    <tr style=\"text-align: right;\">\n",
       "      <th></th>\n",
       "      <th>id</th>\n",
       "      <th>ARCHIVE-PATH</th>\n",
       "      <th>FILING-DATE</th>\n",
       "      <th>CIK</th>\n",
       "      <th>CONFORMED-NAME</th>\n",
       "      <th>TYPE</th>\n",
       "      <th>FORM-TYPE</th>\n",
       "      <th>ASSIGNED-SIC</th>\n",
       "      <th>CITY</th>\n",
       "      <th>STATE</th>\n",
       "      <th>ZIP</th>\n",
       "      <th>ACCESSION-NUMBER</th>\n",
       "    </tr>\n",
       "  </thead>\n",
       "  <tbody>\n",
       "    <tr>\n",
       "      <th>17</th>\n",
       "      <td>13019906</td>\n",
       "      <td>/var/opt/edgar/data/Feed/2019/QTR3/20190827.nc...</td>\n",
       "      <td>2019-08-27</td>\n",
       "      <td>1467623</td>\n",
       "      <td>DROPBOX, INC.</td>\n",
       "      <td>3</td>\n",
       "      <td>3</td>\n",
       "      <td>7372.0</td>\n",
       "      <td>SAN FRANCISCO</td>\n",
       "      <td>CA</td>\n",
       "      <td>94158</td>\n",
       "      <td>0001562180-19-004510</td>\n",
       "    </tr>\n",
       "    <tr>\n",
       "      <th>60</th>\n",
       "      <td>13019655</td>\n",
       "      <td>/var/opt/edgar/data/Feed/2019/QTR3/20190827.nc...</td>\n",
       "      <td>2019-08-27</td>\n",
       "      <td>1701040</td>\n",
       "      <td>CISION LTD.</td>\n",
       "      <td>4</td>\n",
       "      <td>4</td>\n",
       "      <td>7372.0</td>\n",
       "      <td>CHICAGO</td>\n",
       "      <td>IL</td>\n",
       "      <td>60601</td>\n",
       "      <td>0001144204-19-041898</td>\n",
       "    </tr>\n",
       "    <tr>\n",
       "      <th>75</th>\n",
       "      <td>13019401</td>\n",
       "      <td>/var/opt/edgar/data/Feed/2019/QTR3/20190827.nc...</td>\n",
       "      <td>2019-08-27</td>\n",
       "      <td>1635282</td>\n",
       "      <td>Rimini Street, Inc.</td>\n",
       "      <td>4</td>\n",
       "      <td>4</td>\n",
       "      <td>7389.0</td>\n",
       "      <td>LAS VEGAS</td>\n",
       "      <td>NV</td>\n",
       "      <td>89169</td>\n",
       "      <td>0001638599-19-000815</td>\n",
       "    </tr>\n",
       "    <tr>\n",
       "      <th>76</th>\n",
       "      <td>13019913</td>\n",
       "      <td>/var/opt/edgar/data/Feed/2019/QTR3/20190827.nc...</td>\n",
       "      <td>2019-08-27</td>\n",
       "      <td>1701040</td>\n",
       "      <td>CISION LTD.</td>\n",
       "      <td>4</td>\n",
       "      <td>4</td>\n",
       "      <td>7372.0</td>\n",
       "      <td>CHICAGO</td>\n",
       "      <td>IL</td>\n",
       "      <td>60601</td>\n",
       "      <td>0001144204-19-041895</td>\n",
       "    </tr>\n",
       "    <tr>\n",
       "      <th>94</th>\n",
       "      <td>13020427</td>\n",
       "      <td>/var/opt/edgar/data/Feed/2019/QTR3/20190827.nc...</td>\n",
       "      <td>2019-08-27</td>\n",
       "      <td>1297989</td>\n",
       "      <td>ExlService Holdings, Inc.</td>\n",
       "      <td>8-K</td>\n",
       "      <td>8-K</td>\n",
       "      <td>7389.0</td>\n",
       "      <td>NEW YORK</td>\n",
       "      <td>X1</td>\n",
       "      <td>10022</td>\n",
       "      <td>0001144204-19-041831</td>\n",
       "    </tr>\n",
       "  </tbody>\n",
       "</table>\n",
       "</div>"
      ],
      "text/plain": [
       "          id                                       ARCHIVE-PATH FILING-DATE  \\\n",
       "17  13019906  /var/opt/edgar/data/Feed/2019/QTR3/20190827.nc...  2019-08-27   \n",
       "60  13019655  /var/opt/edgar/data/Feed/2019/QTR3/20190827.nc...  2019-08-27   \n",
       "75  13019401  /var/opt/edgar/data/Feed/2019/QTR3/20190827.nc...  2019-08-27   \n",
       "76  13019913  /var/opt/edgar/data/Feed/2019/QTR3/20190827.nc...  2019-08-27   \n",
       "94  13020427  /var/opt/edgar/data/Feed/2019/QTR3/20190827.nc...  2019-08-27   \n",
       "\n",
       "        CIK             CONFORMED-NAME TYPE FORM-TYPE  ASSIGNED-SIC  \\\n",
       "17  1467623              DROPBOX, INC.    3         3        7372.0   \n",
       "60  1701040                CISION LTD.    4         4        7372.0   \n",
       "75  1635282        Rimini Street, Inc.    4         4        7389.0   \n",
       "76  1701040                CISION LTD.    4         4        7372.0   \n",
       "94  1297989  ExlService Holdings, Inc.  8-K       8-K        7389.0   \n",
       "\n",
       "             CITY STATE    ZIP      ACCESSION-NUMBER  \n",
       "17  SAN FRANCISCO    CA  94158  0001562180-19-004510  \n",
       "60        CHICAGO    IL  60601  0001144204-19-041898  \n",
       "75      LAS VEGAS    NV  89169  0001638599-19-000815  \n",
       "76        CHICAGO    IL  60601  0001144204-19-041895  \n",
       "94       NEW YORK    X1  10022  0001144204-19-041831  "
      ]
     },
     "execution_count": 13,
     "metadata": {},
     "output_type": "execute_result"
    }
   ],
   "source": [
    "df = pd.read_csv('feed_header_2017-2019.tsv', sep='\\t')\n",
    "df = df[np.logical_and(df['ASSIGNED-SIC']>=1000*ans4, df['ASSIGNED-SIC']<1000*(ans4+1))]\n",
    "ans5 = df.shape\n",
    "print(ans5)\n",
    "df.head()"
   ]
  },
  {
   "cell_type": "markdown",
   "metadata": {},
   "source": [
    "### From questions 6 to 8, you will analyze the feature of the company name.\n",
    "### To solve questions 6 ~ 8, you need to use the `CONFORMED-NAME` column value from the dataframe `df`."
   ]
  },
  {
   "cell_type": "markdown",
   "metadata": {},
   "source": [
    "##### Question 6: Find the most common `word` among company names and assign it to the `ans6`.\n",
    "\n",
    "- We consider <b>word</b> as all numbers, special characters, and text separated by white space.\n",
    "- You will get the <b>word</b> using the `split` method.\n",
    "- For Question 6, each <b>word</b> is case-sensitive.\n",
    "\n",
    "[Hint]\n",
    "\n",
    "- `split` method : https://www.w3schools.com/python/ref_string_split.asp"
   ]
  },
  {
   "cell_type": "code",
   "execution_count": 191,
   "metadata": {},
   "outputs": [
    {
     "name": "stdout",
     "output_type": "stream",
     "text": [
      "Inc.\n"
     ]
    }
   ],
   "source": [
    "comp_name = [comp for comp in df['CONFORMED-NAME']]\n",
    "comp_list = []\n",
    "for comp in comp_name:\n",
    "    comp_new = comp.split()\n",
    "    for com in comp_new: \n",
    "        comp_list.append(com)     \n",
    "\n",
    "ans6 = Counter(comp_list).most_common(1)[0][0]\n",
    "print(ans6)"
   ]
  },
  {
   "cell_type": "markdown",
   "metadata": {},
   "source": [
    "### What was the answer to `ans6`? \n",
    "### Do you think the answer is a `stopword`? \n",
    "### `Stopwords` are generally the most common words in a language and may not be meaningful such as `the`, `a`, `of` and `or`.\n",
    "### In the industry section, the following words can be stopwords (`inc`, `co`, `se`, `ltd`, ... ).\n",
    "### Therefore, you want to delete the `stopwords` to get the most precise result."
   ]
  },
  {
   "cell_type": "markdown",
   "metadata": {},
   "source": [
    "##### Question 7: Find the most common word among company names after removing stopwords and assign it to the `ans7`.\n",
    "- Please <b>lowercase</b> the company name value.\n",
    "- We consider <b>word</b> as all numbers, special characters, and text separated by white space.\n",
    "- Filter the word if the word includes any items among the provided `stopwords` list."
   ]
  },
  {
   "cell_type": "code",
   "execution_count": 192,
   "metadata": {},
   "outputs": [
    {
     "name": "stdout",
     "output_type": "stream",
     "text": [
      "international\n"
     ]
    }
   ],
   "source": [
    "stopwords = ['inc','corp','co','ltd','de','llc','group','inc.']\n",
    "\n",
    "comp_name = [comp for comp in df['CONFORMED-NAME']]\n",
    "comp_list = []\n",
    "for comp in comp_name:\n",
    "    comp_new = comp.lower().split()\n",
    "    for com in comp_new: \n",
    "        if com not in stopwords:\n",
    "            comp_list.append(com)\n",
    "\n",
    "ans7 = Counter(comp_list).most_common(1)[0][0]\n",
    "print(ans7)"
   ]
  },
  {
   "cell_type": "markdown",
   "metadata": {},
   "source": [
    "##### Question 8: Find the longest company name and assign it to the `ans8`.\n",
    "\n",
    "- You do not need to split the value to extract the company name. \n",
    "- Here are company name examples : `Apple, inc.`, `Amazon, inc.`"
   ]
  },
  {
   "cell_type": "code",
   "execution_count": 193,
   "metadata": {},
   "outputs": [
    {
     "name": "stdout",
     "output_type": "stream",
     "text": [
      "Wellington Trust Company, National Association Multiple Common Trust Funds Trust, Micro Cap Equity P\n"
     ]
    }
   ],
   "source": [
    "comp_name = [comp for comp in df['CONFORMED-NAME']]\n",
    "comp_dict = {}\n",
    "for comp in comp_name:\n",
    "    comp_dict[comp]=len(comp)\n",
    "    \n",
    "ans8 = max(comp_dict, key=comp_dict.get)    \n",
    "print(ans8)"
   ]
  },
  {
   "cell_type": "markdown",
   "metadata": {},
   "source": [
    "### Question 9 ~ 12: You want to see the trend of  `STATE` where the companies submit the `10-K` report in `2018` or `2019` from the `df` dataframe.\n",
    "- The first step is to make the new column, `year`, which includes the year value from `FILING-DATE` column.\n",
    "- Please convert the `year` column datatype as `int`.\n",
    "- Next, filter the dataframe which <b>1)</b> `Form-Type` is `10-K` and <b>2)</b> `Year` is `2018` or `2019` and assign the filtered result as the\n",
    "`df_10K`."
   ]
  },
  {
   "cell_type": "markdown",
   "metadata": {},
   "source": [
    "##### Question 9: Please find the unique number of states from the dataframe `df_10K` and assign it to the `ans9`.\n",
    "[Hint]\n",
    "- `.nunique()` method:  https://pandas.pydata.org/pandas-docs/stable/reference/api/pandas.DataFrame.nunique.html"
   ]
  },
  {
   "cell_type": "code",
   "execution_count": 218,
   "metadata": {},
   "outputs": [
    {
     "name": "stdout",
     "output_type": "stream",
     "text": [
      "75\n"
     ]
    }
   ],
   "source": [
    "df['year'] = df['FILING-DATE'].str[0:4].astype(int)\n",
    "df_10K = df[df[\"FORM-TYPE\"] == \"10-K\"] \n",
    "df_10K = df_10K[(df_10K[\"year\"] == 2018) | (df_10K[\"year\"] == 2019)]\n",
    "ans9 = df_10K[\"STATE\"].nunique()\n",
    "print(ans9)"
   ]
  },
  {
   "cell_type": "markdown",
   "metadata": {},
   "source": [
    "### You are provided `states` information in `us_states.csv`.\n",
    "### If comparing `states` list from  `df_10K`  with `us_states.csv`, you will notice that some state names are invalid. \n",
    "### Therefore, you need to preprocess the `State` value in `df_10K` dataframe. \n",
    "### Download `us_state.csv` file into the same directory, where `hw1_starter.ipynb` is located. (If not, there will be an extra deduction on your grade)\n",
    "### Read the `us_states.csv` file and remove rows with invalid states from `df_10K` dataframe.\n",
    "\n",
    "##### Question 10: Please find the unique number of valid states from the dataframe `df_10K_state` and assign its value to the `ans10`.\n",
    "- Use the `pandas` library to open the `us_states.csv` file as a dataframe `usa_states`.\n",
    "- Get rid of rows which `STATE` column value is not the same as `State` column value from dataframe `usa_states`.\n",
    "- Save the preprocessed dataframe name as `df_10K_state`."
   ]
  },
  {
   "cell_type": "code",
   "execution_count": 221,
   "metadata": {},
   "outputs": [
    {
     "name": "stdout",
     "output_type": "stream",
     "text": [
      "44\n"
     ]
    }
   ],
   "source": [
    "usa_states = pd.read_csv(\"us_states.csv\")[\"State\"].values\n",
    "df_10K_state = df_10K[df_10K[\"STATE\"].isin(usa_states)]\n",
    "ans10 = df_10K_state[\"STATE\"].nunique()\n",
    "print(ans10)"
   ]
  },
  {
   "cell_type": "markdown",
   "metadata": {},
   "source": [
    "#### Question 11: Find the states with the largest number of 10-K reports from dataframe `df_10K_state`, and assign this number to `ans11`.\n",
    "\n",
    "[Hint]\n",
    "- To solve this question, you can refer the `Counter` object to check how many 10-K reporting is submitted by companies in each region.\n",
    "- `Counter` : https://docs.python.org/3/library/collections.html\n"
   ]
  },
  {
   "cell_type": "code",
   "execution_count": 222,
   "metadata": {},
   "outputs": [
    {
     "name": "stdout",
     "output_type": "stream",
     "text": [
      "315\n"
     ]
    }
   ],
   "source": [
    "ans11 = Counter(df_10K_state[\"STATE\"]).most_common(1)[0][1]\n",
    "print(ans11)"
   ]
  },
  {
   "cell_type": "markdown",
   "metadata": {},
   "source": [
    "##### Question 12: Find the number of `10-K` reports from the state of `NY` from the  `df_10K_state` dataframe."
   ]
  },
  {
   "cell_type": "code",
   "execution_count": 223,
   "metadata": {},
   "outputs": [
    {
     "name": "stdout",
     "output_type": "stream",
     "text": [
      "166\n"
     ]
    }
   ],
   "source": [
    "ans12 = len(df_10K_state[df_10K_state['STATE']==\"NY\"])\n",
    "print(ans12)"
   ]
  },
  {
   "cell_type": "markdown",
   "metadata": {},
   "source": [
    "##### Question 13: Make the `bar` graph based on the following instructions.\n",
    "- You want to know the top <b>7</b> states where the `10-K` reports were most reported.\n",
    "- To make a <b>bar</b> graph, please use the `df_10K_state` dataframe.\n",
    "- Before drawing the graph, make the `state_count` dictionary which contains the state and the number of 10-K reports for that state.<br/>\n",
    "  (e.g.) <b>{'NY': 166, 'CA':  ... }</b>\n",
    "- Set all labels' font size as font size <b>15</b>. \n",
    "- Set the xlabel as \"`STATE`\" (please use `STATE` column).\n",
    "- Set the ylabel as \"`Number of 10-K reports`\" (please use `state_count` dictionary).\n",
    "- Set the title as \"`Number of 10-K reports in 2018 and 2019`\".\n",
    "- Save the graph named \"`hw1_ans13_(student_id).png`\".<br/>\n",
    "  (e.g.) <b>hw1_ans13_37510930.png</b>"
   ]
  },
  {
   "cell_type": "code",
   "execution_count": 224,
   "metadata": {},
   "outputs": [
    {
     "data": {
      "image/png": "[encoded data removed]",
      "text/plain": [
       "<Figure size 432x288 with 1 Axes>"
      ]
     },
     "metadata": {
      "needs_background": "light"
     },
     "output_type": "display_data"
    }
   ],
   "source": [
    "list_states = df_10K_state['STATE'].values\n",
    "state_count = {}\n",
    "for state in list_states:\n",
    "    if state in state_count:\n",
    "        state_count[state] += 1\n",
    "    else:\n",
    "        state_count[state] = 1\n",
    "big_states = sorted(state_count, key=state_count.get, reverse=True)[0:7]\n",
    "big_values = [state_count[s] for s in big_states]\n",
    "\n",
    "plt.bar(big_states, big_values)\n",
    "plt.xlabel('STATE', fontsize=15)\n",
    "plt.ylabel('The number of 10-K reports', fontsize=15)\n",
    "plt.title('Number of 10-K reports in 2018 and 2019', fontsize=15)\n",
    "plt.savefig('hw1_ans13_{}.png'.format(student_id))\n",
    "plt.show()"
   ]
  },
  {
   "cell_type": "markdown",
   "metadata": {},
   "source": [
    "## [COVID-19 analytics : Question 14 - 19]"
   ]
  },
  {
   "cell_type": "markdown",
   "metadata": {},
   "source": [
    "### You want to calculate basic data statistics and draw graphs on `COVID-19 Cases`, which contain the information on `Reported_Date`, `HA`, `Sex`, and `Age_Group` from the `covid` dataframe.\n",
    "\n",
    "- Download `BCCDC_COVID19_Dashboard_Case_Details.csv` file into the same directory, where `hw1_starter.ipynb` is located. (If not, there will be an extra deduction on your grade)\n",
    "- Open `BCCDC_COVID19_Dashboard_Case_Details.csv` file using `pandas` library and assign the dataframe name as `covid`."
   ]
  },
  {
   "cell_type": "markdown",
   "metadata": {},
   "source": [
    "##### Question 14: Find how many COVID-19 cases occurred in October and assign its value to `ans14`. \n",
    "\n",
    "- The first step is to make the new column, `Month`, which includes month value from `Reported_Date` column.\n",
    "- Next, make the `list_Month` which contains the value of `Month` in `covid` dataframe.\n",
    "- Then, make the `month_count` dictionary which contains the month and the number of cases for that month.<br/>\n",
    "  (e.g.) <b>{'01': 1, '02': 8, ... }</b>\n",
    "- Finally, get the number of cases occured in October"
   ]
  },
  {
   "cell_type": "code",
   "execution_count": 14,
   "metadata": {},
   "outputs": [
    {
     "name": "stdout",
     "output_type": "stream",
     "text": [
      "3292\n"
     ]
    }
   ],
   "source": [
    "covid = pd.read_csv('BCCDC_COVID19_Dashboard_Case_Details.csv')\n",
    "covid['Month']=covid['Reported_Date'].str[5:7]\n",
    "\n",
    "list_Month = covid['Month'].values\n",
    "month_count = {}\n",
    "\n",
    "for month in list_Month:\n",
    "    if month in month_count:\n",
    "        month_count[month] += 1\n",
    "    else:\n",
    "        month_count[month] = 1\n",
    "\n",
    "ans14 = month_count.get('10')\n",
    "\n",
    "print(ans14)"
   ]
  },
  {
   "cell_type": "markdown",
   "metadata": {},
   "source": [
    "##### Question 15: Make the `bar` chart based on the following instructions.\n",
    "- You want to draw the `bar` chart to find out the trend in covid-19 by month based on the `list_Month` and `month_count`in Question 14.\n",
    "- X axis is the month in `list_Month` and Y axis is the number of cases in `month_count`.\n",
    "- Set all labels' font size as <b>15</b>. \n",
    "- Set the xlabel as \"`Months`\".\n",
    "- Set the ylabel as \"`The Number of Cases`\".\n",
    "- Set the title as \"`The Number of Cases by Months`\".\n",
    "- Save the graph named \"`hw1_ans15_(student_id).png`\".<br/>\n",
    "  (e.g.) <b>hw1_ans15_37510930.png</b>"
   ]
  },
  {
   "cell_type": "code",
   "execution_count": 15,
   "metadata": {},
   "outputs": [
    {
     "data": {
      "image/png": "[encoded data removed]",
      "text/plain": [
       "<Figure size 432x288 with 1 Axes>"
      ]
     },
     "metadata": {},
     "output_type": "display_data"
    }
   ],
   "source": [
    "month_values = [month_count[s] for s in list_Month]\n",
    "\n",
    "plt.bar(list_Month, month_values)\n",
    "plt.xlabel('Months', fontsize=15)\n",
    "plt.ylabel('The Number of Cases', fontsize=15)\n",
    "plt.title('The Number of Cases by Months', fontsize=15)\n",
    "plt.savefig('hw1_ans15_{}.png'.format(student_id))\n",
    "plt.show()"
   ]
  },
  {
   "cell_type": "markdown",
   "metadata": {},
   "source": [
    "### Question 16~17: Make the `Line` plot by `Sex` and `Month`.\n",
    "- We want to divide the number of cases by `Sex` in `question 15`.\n",
    "\n",
    "##### Question 16: Find the month in which the number of female(`F`) cases were least and assign it to `ans16`. \n",
    "- Column `Sex` consists of `M`,`F`,and `U`.\n",
    "- Calculate the number of cases in each `Sex` by `Month` as in Question `14`.\n",
    "\n",
    "- The first step is to divide `covid` dataframe into three sub-dataframe according to `Sex` values.\n",
    "- Next, make the `Male_Month`, `Female_Month`, and `Unknown_Month` which contains the value of `Month` in three sub-dataframe.\n",
    "- Then, make the `Male_count`, `Female_count`, and `Unknown_count` dictionary which contains the month and the number of cases for that month.<br/>\n",
    "  (e.g.) <b>{'01': 1, '02': 8, ... } for each `Sex`</b>\n",
    "- Finally, get the month in which the number of female(`F`) cases were least."
   ]
  },
  {
   "cell_type": "code",
   "execution_count": 16,
   "metadata": {},
   "outputs": [
    {
     "name": "stdout",
     "output_type": "stream",
     "text": [
      "02\n"
     ]
    }
   ],
   "source": [
    "covid_Male = covid[covid['Sex']=='M']\n",
    "covid_Female = covid[covid['Sex']=='F']\n",
    "covid_Unknown = covid[covid['Sex']=='U']\n",
    "\n",
    "Male_Month = covid_Male['Month'].values\n",
    "Female_Month = covid_Female['Month'].values\n",
    "Unknown_Month = covid_Unknown['Month'].values\n",
    "\n",
    "Male_count = {}\n",
    "Female_count = {}\n",
    "Unknown_count = {}\n",
    "for month in Male_Month:\n",
    "    if month in Male_count:\n",
    "        Male_count[month] += 1\n",
    "    else:\n",
    "        Male_count[month] = 1\n",
    "\n",
    "for month in Female_Month:\n",
    "    if month in Female_count:\n",
    "        Female_count[month] += 1\n",
    "    else:\n",
    "        Female_count[month] = 1\n",
    "\n",
    "for month in Unknown_Month:\n",
    "    if month in Unknown_count:\n",
    "        Unknown_count[month] += 1\n",
    "    else:\n",
    "        Unknown_count[month] = 1\n",
    "\n",
    "ans16 = min(Female_count, key=Female_count.get)    \n",
    "print(ans16)"
   ]
  },
  {
   "cell_type": "markdown",
   "metadata": {},
   "source": [
    "##### Question 17: Make the `line` plot based on the following instructions.\n",
    "- You want to distinguish the number of cases by `Month` between `Sex` to check whether there is different trend between `Sex`.\n",
    "- Draw the `plot` based on the `Male_Month`,`Female_Month`,`Unknown_Month`,`Male_count`,`Female_count`, and `Unknown_count`in Question 16.\n",
    "- Set all labels' font size as <b>15</b>. \n",
    "- Set the xlabel as \"`Months`\" (please use `month_count` column values).\n",
    "- Set the ylabel as \"`The Number of Cases by Sex`\".\n",
    "- Set the title as \"`The Number of Cases by Sex and Months`\".\n",
    "- Save the graph named \"`hw1_ans17_(student_id).png`\".<br/>\n",
    "  (e.g.) <b>hw1_ans17_37510930.png</b>"
   ]
  },
  {
   "cell_type": "code",
   "execution_count": 17,
   "metadata": {},
   "outputs": [
    {
     "data": {
      "image/png": "[encoded data removed]",
      "text/plain": [
       "<Figure size 432x288 with 1 Axes>"
      ]
     },
     "metadata": {},
     "output_type": "display_data"
    }
   ],
   "source": [
    "Male_values = [Male_count[s] for s in Male_Month]\n",
    "Female_values = [Female_count[s] for s in Female_Month]\n",
    "Unknown_values = [Unknown_count[s] for s in Unknown_Month]\n",
    "\n",
    "plt.plot(Male_Month, Male_values)\n",
    "plt.plot(Female_Month, Female_values)\n",
    "plt.plot(Unknown_Month, Unknown_values)\n",
    "plt.xlabel('Months', fontsize=15)\n",
    "plt.ylabel('The Number of Cases', fontsize=15)\n",
    "plt.title('The Number of Cases by Months', fontsize=15)\n",
    "plt.legend(['Male','Female','Unknown'])\n",
    "plt.savefig('hw1_ans17_{}.png'.format(student_id))\n",
    "plt.show()"
   ]
  },
  {
   "cell_type": "markdown",
   "metadata": {},
   "source": [
    "### Question 18~19: Make the `Horizontal bar` plot.\n",
    "\n",
    "- B.C. began to be affected by the covid-19 after mid-March.\n",
    "- Accordingly, we would like to check how many cases were reported by regions in specific month in <b>Question 18</b>.\n",
    "- Also, we would like to check the cumulative reported cases by regions in <b>Question 19</b>. \n",
    "- Select the code to aggregate `covid` dataframe by `HA` and `Month` and assign this dataframe as `covid_region`. \n",
    "- In the dataframe `covid_region`, the columns that you need are `HA`, `Month`, and `Classification_Reported`.\n",
    "- Next, you need to make new column `Reported_cum`, which is the cumulative number of `Classification_Reported` of each `HA`.\n",
    "\n",
    "[Hint]\n",
    "- `groupby(sum)` : https://stackoverflow.com/questions/39922986/pandas-group-by-and-sum\n",
    "- `cumsum` : https://pandas.pydata.org/pandas-docs/stable/reference/api/pandas.DataFrame.cumsum.html\n",
    "- `lamda` : https://www.w3schools.com/python/python_lambda.asp"
   ]
  },
  {
   "cell_type": "code",
   "execution_count": 18,
   "metadata": {},
   "outputs": [
    {
     "data": {
      "text/html": [
       "<div>\n",
       "<style scoped>\n",
       "    .dataframe tbody tr th:only-of-type {\n",
       "        vertical-align: middle;\n",
       "    }\n",
       "\n",
       "    .dataframe tbody tr th {\n",
       "        vertical-align: top;\n",
       "    }\n",
       "\n",
       "    .dataframe thead th {\n",
       "        text-align: right;\n",
       "    }\n",
       "</style>\n",
       "<table border=\"1\" class=\"dataframe\">\n",
       "  <thead>\n",
       "    <tr style=\"text-align: right;\">\n",
       "      <th></th>\n",
       "      <th>HA</th>\n",
       "      <th>Month</th>\n",
       "      <th>Classification_Reported</th>\n",
       "      <th>Reported_cum</th>\n",
       "    </tr>\n",
       "  </thead>\n",
       "  <tbody>\n",
       "    <tr>\n",
       "      <th>0</th>\n",
       "      <td>Fraser</td>\n",
       "      <td>02</td>\n",
       "      <td>2</td>\n",
       "      <td>2</td>\n",
       "    </tr>\n",
       "    <tr>\n",
       "      <th>1</th>\n",
       "      <td>Fraser</td>\n",
       "      <td>03</td>\n",
       "      <td>350</td>\n",
       "      <td>352</td>\n",
       "    </tr>\n",
       "    <tr>\n",
       "      <th>2</th>\n",
       "      <td>Fraser</td>\n",
       "      <td>04</td>\n",
       "      <td>617</td>\n",
       "      <td>969</td>\n",
       "    </tr>\n",
       "    <tr>\n",
       "      <th>3</th>\n",
       "      <td>Fraser</td>\n",
       "      <td>05</td>\n",
       "      <td>329</td>\n",
       "      <td>1298</td>\n",
       "    </tr>\n",
       "    <tr>\n",
       "      <th>4</th>\n",
       "      <td>Fraser</td>\n",
       "      <td>06</td>\n",
       "      <td>242</td>\n",
       "      <td>1540</td>\n",
       "    </tr>\n",
       "  </tbody>\n",
       "</table>\n",
       "</div>"
      ],
      "text/plain": [
       "       HA Month  Classification_Reported  Reported_cum\n",
       "0  Fraser    02                        2             2\n",
       "1  Fraser    03                      350           352\n",
       "2  Fraser    04                      617           969\n",
       "3  Fraser    05                      329          1298\n",
       "4  Fraser    06                      242          1540"
      ]
     },
     "execution_count": 18,
     "metadata": {},
     "output_type": "execute_result"
    }
   ],
   "source": [
    "covid_region = covid.groupby(['HA','Month']).count().reset_index()\n",
    "covid_region = covid_region[['HA','Month','Classification_Reported']]\n",
    "covid_region['Reported_cum'] = covid_region.groupby(['HA'])['Classification_Reported'].apply(lambda x: x.cumsum())\n",
    "covid_region.head()"
   ]
  },
  {
   "cell_type": "markdown",
   "metadata": {},
   "source": [
    "##### Question 18: Draw the `Horizontal bar` graph when the `Month` is March(`03`).\n",
    "- Set all labels' font size as <b>15</b>. \n",
    "- Set the xlabel as \"`The Reported Number of Cases`\"(Please use the value of `Classification_Reported`).\n",
    "- Set the ylabel as \"`Region`\".\n",
    "- Set the title as \"`The Number of Cases in March`\".\n",
    "- Save the graph named \"`hw1_ans18_(student_id).png`\".<br/>\n",
    "  (e.g.) <b>hw1_ans18_37510930.png</b>\n",
    "\n",
    "[Hint]\n",
    "- `barh` : https://matplotlib.org/3.1.1/api/_as_gen/matplotlib.pyplot.barh.html"
   ]
  },
  {
   "cell_type": "code",
   "execution_count": 19,
   "metadata": {},
   "outputs": [
    {
     "data": {
      "image/png": "[encoded data removed]",
      "text/plain": [
       "<Figure size 432x288 with 1 Axes>"
      ]
     },
     "metadata": {},
     "output_type": "display_data"
    }
   ],
   "source": [
    "covid_march = (covid_region[covid_region['Month']=='03'])\n",
    "plt.barh(covid_march['HA'], covid_march['Classification_Reported'])\n",
    "plt.xlabel('The Reported Number of Cases', fontsize=15)\n",
    "plt.ylabel('Region', fontsize=15)\n",
    "plt.title('The Number of Cases in March', fontsize=15)\n",
    "plt.savefig('hw1_ans18_{}.png'.format(student_id))\n",
    "plt.show()"
   ]
  },
  {
   "cell_type": "markdown",
   "metadata": {},
   "source": [
    "##### Question 19. Draw the `Horizontal bar` graph  until the `Month` is August(`08`).\n",
    "- Aassign different random colors and sort the region in descending order (in the number of cumulative cases).\n",
    "- Set all labels' font size as <b>15</b>. \n",
    "- Set the xlabel as \"`The Reported Culumative Number of Cases`\"(Please use the value of `Reported_cum`).\n",
    "- Set the ylabel as \"`Region`\".\n",
    "- Set the title as \"`The Total Number of Cases Until August`\".\n",
    "- Save the graph named \"`hw1_ans19_(student_id).png`\".<br/>\n",
    "  (e.g.) <b>hw1_ans19_37510930.png</b>\n",
    "\n",
    "[Hint]\n",
    "- `random` : https://docs.python.org/3/library/random.html\n",
    "- `sort_values` : https://pandas.pydata.org/pandas-docs/stable/reference/api/pandas.DataFrame.sort_values.html\n",
    "- `map` : https://www.w3schools.com/python/ref_func_map.asp"
   ]
  },
  {
   "cell_type": "code",
   "execution_count": 20,
   "metadata": {},
   "outputs": [
    {
     "data": {
      "image/png": "[encoded data removed]",
      "text/plain": [
       "<Figure size 432x288 with 1 Axes>"
      ]
     },
     "metadata": {},
     "output_type": "display_data"
    }
   ],
   "source": [
    "region_color = list(dict.fromkeys(covid_region['HA']))\n",
    "color = np.random.rand(len(region_color),3)\n",
    "colors = dict(zip(region_color,color))\n",
    "covid_region['color']=covid_region['HA'].map(colors.get)\n",
    "covid_aug = (covid_region[covid_region['Month']=='08']).sort_values(by='Reported_cum', ascending=True)\n",
    "plt.barh(covid_aug['HA'], covid_aug['Reported_cum'], color=[colors[x] for x in covid_aug['HA']])\n",
    "plt.xlabel('The Reported Culumative Number of Cases', fontsize=15)\n",
    "plt.ylabel('Region', fontsize=15)\n",
    "plt.title('The Total Number of Cases Until August', fontsize=15)\n",
    "plt.savefig('hw1_ans19_{}.png'.format(student_id))\n",
    "plt.show()"
   ]
  }
 ],
 "metadata": {
  "kernelspec": {
   "display_name": "Python 3",
   "language": "python",
   "name": "python3"
  },
  "language_info": {
   "codemirror_mode": {
    "name": "ipython",
    "version": 3
   },
   "file_extension": ".py",
   "mimetype": "text/x-python",
   "name": "python",
   "nbconvert_exporter": "python",
   "pygments_lexer": "ipython3",
   "version": "3.8.5"
  }
 },
 "nbformat": 4,
 "nbformat_minor": 2
}
